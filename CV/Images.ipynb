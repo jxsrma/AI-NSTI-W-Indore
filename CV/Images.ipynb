{
 "cells": [
  {
   "cell_type": "markdown",
   "id": "23f29a68",
   "metadata": {},
   "source": [
    "Image Location:"
   ]
  },
  {
   "cell_type": "code",
   "execution_count": 1,
   "id": "686afb8f",
   "metadata": {},
   "outputs": [],
   "source": [
    "Imagelocation = \"C:\\\\Users\\\\Jash\\\\Desktop\\\\image.jpg\""
   ]
  },
  {
   "cell_type": "markdown",
   "id": "5011b227",
   "metadata": {},
   "source": [
    "Import cv2"
   ]
  },
  {
   "cell_type": "code",
   "execution_count": 2,
   "id": "94e07ba6",
   "metadata": {},
   "outputs": [],
   "source": [
    "import cv2"
   ]
  },
  {
   "cell_type": "markdown",
   "id": "0a827861",
   "metadata": {},
   "source": [
    "Check Version"
   ]
  },
  {
   "cell_type": "code",
   "execution_count": 3,
   "id": "c1b3480e",
   "metadata": {},
   "outputs": [
    {
     "data": {
      "text/plain": [
       "'4.10.0'"
      ]
     },
     "execution_count": 3,
     "metadata": {},
     "output_type": "execute_result"
    }
   ],
   "source": [
    "cv2.__version__"
   ]
  },
  {
   "cell_type": "markdown",
   "id": "25e57bf5",
   "metadata": {},
   "source": [
    "Open Image"
   ]
  },
  {
   "cell_type": "code",
   "execution_count": 4,
   "id": "702c766c",
   "metadata": {},
   "outputs": [],
   "source": [
    "img = cv2.imread(Imagelocation)"
   ]
  },
  {
   "cell_type": "markdown",
   "id": "845d2d23",
   "metadata": {},
   "source": [
    "Show Image"
   ]
  },
  {
   "cell_type": "code",
   "execution_count": 5,
   "id": "de0208be",
   "metadata": {},
   "outputs": [],
   "source": [
    "def showImage(title,image):\n",
    "    cv2.imshow(title,image)\n",
    "    cv2.waitKey(0)\n",
    "    cv2.destroyAllWindows()"
   ]
  },
  {
   "cell_type": "code",
   "execution_count": 26,
   "id": "9edc50bd",
   "metadata": {},
   "outputs": [],
   "source": [
    "showImage(\"This is Image Heading\",img)"
   ]
  },
  {
   "cell_type": "markdown",
   "id": "7b72f1d9",
   "metadata": {},
   "source": [
    "Open in GreyScale"
   ]
  },
  {
   "cell_type": "code",
   "execution_count": 7,
   "id": "f892180c",
   "metadata": {},
   "outputs": [],
   "source": [
    "imggrey = cv2.imread(Imagelocation,cv2.IMREAD_GRAYSCALE)\n",
    "showImage(\"This is Grey Image\",imggrey)\n"
   ]
  },
  {
   "cell_type": "markdown",
   "id": "4549f703",
   "metadata": {},
   "source": [
    "Save Image"
   ]
  },
  {
   "cell_type": "code",
   "execution_count": 8,
   "id": "2a49fd6e",
   "metadata": {},
   "outputs": [
    {
     "data": {
      "text/plain": [
       "True"
      ]
     },
     "execution_count": 8,
     "metadata": {},
     "output_type": "execute_result"
    }
   ],
   "source": [
    "result = cv2.imwrite(\"SavedImageGrey.jpg\",imggrey)\n",
    "result"
   ]
  },
  {
   "cell_type": "markdown",
   "id": "5f5dec72",
   "metadata": {},
   "source": [
    "Check Saved Image"
   ]
  },
  {
   "cell_type": "code",
   "execution_count": 9,
   "id": "5ed51196",
   "metadata": {},
   "outputs": [],
   "source": [
    "imgGreyRead = cv2.imread(\"SavedImageGrey.jpg\")\n",
    "showImage(\"Reading Image Grey\",imgGreyRead)"
   ]
  },
  {
   "cell_type": "markdown",
   "id": "8a43b324",
   "metadata": {},
   "source": [
    "Resize Image"
   ]
  },
  {
   "cell_type": "code",
   "execution_count": 13,
   "id": "0d616c47",
   "metadata": {},
   "outputs": [],
   "source": [
    "resized = cv2.resize(img,(500,50))\n",
    "showImage(\"Resized\",resized)"
   ]
  },
  {
   "cell_type": "markdown",
   "id": "72065d24",
   "metadata": {},
   "source": [
    "Rotate"
   ]
  },
  {
   "cell_type": "code",
   "execution_count": 22,
   "id": "f6a4ca4d",
   "metadata": {},
   "outputs": [],
   "source": [
    "# High, Width\n",
    "(h,w)=img.shape[:2]"
   ]
  },
  {
   "cell_type": "code",
   "execution_count": 23,
   "id": "e3543a75",
   "metadata": {},
   "outputs": [],
   "source": [
    "center = (w//2,h//2)\n",
    "rotationMatrix = cv2.getRotationMatrix2D(center,180,1)\n",
    "rotated = cv2.warpAffine(img,rotationMatrix,(w,h))\n",
    "showImage(\"rotated\",rotated)"
   ]
  },
  {
   "cell_type": "markdown",
   "id": "853b38a8",
   "metadata": {},
   "source": [
    "Flipping Image"
   ]
  },
  {
   "cell_type": "code",
   "execution_count": 27,
   "id": "6283492b",
   "metadata": {},
   "outputs": [],
   "source": [
    "flippedH = cv2.flip(img,1)\n",
    "showImage(\"Flipped Horizontal\",flippedH)"
   ]
  },
  {
   "cell_type": "code",
   "execution_count": 28,
   "id": "03636fa5",
   "metadata": {},
   "outputs": [],
   "source": [
    "flippedV = cv2.flip(img,0)\n",
    "showImage(\"Flipped Vertical\",flippedV)"
   ]
  },
  {
   "cell_type": "code",
   "execution_count": 29,
   "id": "3c8f26a2",
   "metadata": {},
   "outputs": [],
   "source": [
    "flippedB = cv2.flip(img,-1)\n",
    "showImage(\"Flipped Horizontal\",flippedB)"
   ]
  },
  {
   "cell_type": "markdown",
   "id": "4e535c82",
   "metadata": {},
   "source": [
    "Cropped Image"
   ]
  },
  {
   "cell_type": "code",
   "execution_count": null,
   "id": "1379a070",
   "metadata": {},
   "outputs": [],
   "source": [
    "cropped = img[50:400,100:400]\n",
    "showImage(\"Cropped\",cropped)"
   ]
  }
 ],
 "metadata": {
  "kernelspec": {
   "display_name": "Python 3",
   "language": "python",
   "name": "python3"
  },
  "language_info": {
   "codemirror_mode": {
    "name": "ipython",
    "version": 3
   },
   "file_extension": ".py",
   "mimetype": "text/x-python",
   "name": "python",
   "nbconvert_exporter": "python",
   "pygments_lexer": "ipython3",
   "version": "3.12.6"
  }
 },
 "nbformat": 4,
 "nbformat_minor": 5
}
