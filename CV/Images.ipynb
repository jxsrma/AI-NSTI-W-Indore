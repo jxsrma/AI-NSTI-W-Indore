{
 "cells": [
  {
   "cell_type": "code",
   "execution_count": 13,
   "id": "686afb8f",
   "metadata": {},
   "outputs": [],
   "source": [
    "Imagelocation = \"C:\\\\Users\\\\Jash\\\\Desktop\\\\image.jpg\""
   ]
  },
  {
   "cell_type": "code",
   "execution_count": 14,
   "id": "94e07ba6",
   "metadata": {},
   "outputs": [],
   "source": [
    "import cv2"
   ]
  },
  {
   "cell_type": "code",
   "execution_count": 15,
   "id": "c1b3480e",
   "metadata": {},
   "outputs": [
    {
     "data": {
      "text/plain": [
       "'4.10.0'"
      ]
     },
     "execution_count": 15,
     "metadata": {},
     "output_type": "execute_result"
    }
   ],
   "source": [
    "cv2.__version__"
   ]
  },
  {
   "cell_type": "code",
   "execution_count": 19,
   "id": "702c766c",
   "metadata": {},
   "outputs": [],
   "source": [
    "img = cv2.imread(Imagelocation,cv2.IMREAD_GRAYSCALE)"
   ]
  },
  {
   "cell_type": "code",
   "execution_count": 20,
   "id": "de0208be",
   "metadata": {},
   "outputs": [],
   "source": [
    "cv2.imshow(\"This is image heading\",img)\n",
    "cv2.waitKey(0)\n",
    "cv2.destroyAllWindows()"
   ]
  },
  {
   "cell_type": "code",
   "execution_count": 21,
   "id": "2a49fd6e",
   "metadata": {},
   "outputs": [
    {
     "data": {
      "text/plain": [
       "True"
      ]
     },
     "execution_count": 21,
     "metadata": {},
     "output_type": "execute_result"
    }
   ],
   "source": [
    "result = cv2.imwrite(\"SavedImageGrey.jpg\",img)\n",
    "result"
   ]
  }
 ],
 "metadata": {
  "kernelspec": {
   "display_name": "Python 3",
   "language": "python",
   "name": "python3"
  },
  "language_info": {
   "codemirror_mode": {
    "name": "ipython",
    "version": 3
   },
   "file_extension": ".py",
   "mimetype": "text/x-python",
   "name": "python",
   "nbconvert_exporter": "python",
   "pygments_lexer": "ipython3",
   "version": "3.12.6"
  }
 },
 "nbformat": 4,
 "nbformat_minor": 5
}
