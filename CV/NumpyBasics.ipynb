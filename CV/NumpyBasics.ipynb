{
 "cells": [
  {
   "cell_type": "code",
   "execution_count": null,
   "id": "ac972a89",
   "metadata": {},
   "outputs": [],
   "source": [
    "Imagelocation = \"image.jpg\""
   ]
  },
  {
   "cell_type": "code",
   "execution_count": 30,
   "id": "3346449e",
   "metadata": {},
   "outputs": [],
   "source": [
    "import cv2"
   ]
  },
  {
   "cell_type": "code",
   "execution_count": 31,
   "id": "e5d2a92e",
   "metadata": {},
   "outputs": [],
   "source": [
    "def showImage(title,image):\n",
    "    cv2.imshow(title,image)\n",
    "    cv2.waitKey(0)\n",
    "    cv2.destroyAllWindows()"
   ]
  },
  {
   "cell_type": "code",
   "execution_count": 32,
   "id": "c10bcf1d",
   "metadata": {},
   "outputs": [],
   "source": [
    "img = cv2.imread(Imagelocation)"
   ]
  },
  {
   "cell_type": "code",
   "execution_count": 33,
   "id": "0471039e",
   "metadata": {},
   "outputs": [],
   "source": [
    "showImage(\"Image\",img)"
   ]
  },
  {
   "cell_type": "markdown",
   "id": "9de9431a",
   "metadata": {},
   "source": [
    "Shape Weigth, Height, Colors"
   ]
  },
  {
   "cell_type": "code",
   "execution_count": 34,
   "id": "dd7d9130",
   "metadata": {},
   "outputs": [
    {
     "data": {
      "text/plain": [
       "(408, 612, 3)"
      ]
     },
     "execution_count": 34,
     "metadata": {},
     "output_type": "execute_result"
    }
   ],
   "source": [
    "img.shape"
   ]
  },
  {
   "cell_type": "markdown",
   "id": "c5edd40b",
   "metadata": {},
   "source": [
    "Colors at 100, 200"
   ]
  },
  {
   "cell_type": "code",
   "execution_count": 35,
   "id": "0c7c5164",
   "metadata": {},
   "outputs": [
    {
     "data": {
      "text/plain": [
       "array([22, 93, 76], dtype=uint8)"
      ]
     },
     "execution_count": 35,
     "metadata": {},
     "output_type": "execute_result"
    }
   ],
   "source": [
    "img[100,600]"
   ]
  },
  {
   "cell_type": "code",
   "execution_count": 37,
   "id": "26be0d94",
   "metadata": {},
   "outputs": [
    {
     "data": {
      "text/plain": [
       "True"
      ]
     },
     "execution_count": 37,
     "metadata": {},
     "output_type": "execute_result"
    }
   ],
   "source": [
    "img[100, 50] = [0, 0, 255] # [Blue, Green, Red]\n",
    "img[101, 51] = [0, 0, 255] # [Blue, Green, Red]\n",
    "img[102, 52] = [0, 0, 255] # [Blue, Green, Red]\n",
    "img[103, 53] = [0, 0, 255] # [Blue, Green, Red]\n",
    "img[104, 54] = [0, 0, 255] # [Blue, Green, Red]\n",
    "img[105, 55] = [0, 0, 255] # [Blue, Green, Red]\n",
    "img[106, 56] = [0, 0, 255] # [Blue, Green, Red]\n",
    "img[107, 57] = [0, 0, 255] # [Blue, Green, Red]\n",
    "img[108, 58] = [0, 0, 255] # [Blue, Green, Red]\n",
    "img[109, 59] = [0, 0, 255] # [Blue, Green, Red]\n",
    "img[50:100, 100:200] = [186,91,89]\n",
    "showImage(\"img\",img)\n",
    "\n",
    "saved = cv2.imwrite(\"Color Manipulation.jpg\",img)\n",
    "saved"
   ]
  }
 ],
 "metadata": {
  "kernelspec": {
   "display_name": "Python 3",
   "language": "python",
   "name": "python3"
  },
  "language_info": {
   "codemirror_mode": {
    "name": "ipython",
    "version": 3
   },
   "file_extension": ".py",
   "mimetype": "text/x-python",
   "name": "python",
   "nbconvert_exporter": "python",
   "pygments_lexer": "ipython3",
   "version": "3.12.6"
  }
 },
 "nbformat": 4,
 "nbformat_minor": 5
}
