{
 "cells": [
  {
   "cell_type": "code",
   "execution_count": 3,
   "id": "df4b94e6",
   "metadata": {},
   "outputs": [],
   "source": [
    "import cv2\n",
    "\n",
    "Imagelocation = \"image.jpg\"\n",
    "img = cv2.imread(Imagelocation)\n",
    "\n",
    "def showImage(image,title='Image'):\n",
    "    cv2.imshow(title,image)\n",
    "    cv2.waitKey(0)\n",
    "    cv2.destroyAllWindows()"
   ]
  },
  {
   "cell_type": "markdown",
   "id": "20181c61",
   "metadata": {},
   "source": [
    "Convert Colour"
   ]
  },
  {
   "cell_type": "code",
   "execution_count": 5,
   "id": "bdf3a346",
   "metadata": {},
   "outputs": [],
   "source": [
    "gray_image = cv2.cvtColor(img, cv2.COLOR_BGR2GRAY)\n",
    "showImage(gray_image)"
   ]
  },
  {
   "cell_type": "markdown",
   "id": "8da24f2c",
   "metadata": {},
   "source": [
    "### Threasholds\n",
    "Binary Threasholding"
   ]
  },
  {
   "cell_type": "code",
   "execution_count": 10,
   "id": "553be155",
   "metadata": {},
   "outputs": [],
   "source": [
    "threshold_value = 160\n",
    "max_value = 255\n",
    "_, thresholded_image = cv2.threshold(gray_image, threshold_value, max_value, cv2.THRESH_BINARY)\n",
    "showImage(thresholded_image)\n"
   ]
  },
  {
   "cell_type": "markdown",
   "id": "1231fc8c",
   "metadata": {},
   "source": [
    "Adaptive Threashold"
   ]
  },
  {
   "cell_type": "code",
   "execution_count": 12,
   "id": "8414dcf0",
   "metadata": {},
   "outputs": [],
   "source": [
    "adaptive_image = cv2.adaptiveThreshold(\n",
    "    gray_image,            # Grayscale input\n",
    "    255,                   # Max value to assign (white)\n",
    "    cv2.ADAPTIVE_THRESH_MEAN_C,  # Use mean of nearby pixels\n",
    "    cv2.THRESH_BINARY,     # Output black or white\n",
    "    blockSize=11,          # Size of neighborhood area (must be odd)\n",
    "    C=2                    # Small value subtracted from mean\n",
    ")\n",
    "\n",
    "showImage(adaptive_image)"
   ]
  },
  {
   "cell_type": "markdown",
   "id": "8d1e532f",
   "metadata": {},
   "source": [
    "Otsu's Binarization"
   ]
  },
  {
   "cell_type": "code",
   "execution_count": 14,
   "id": "14cbb2b3",
   "metadata": {},
   "outputs": [],
   "source": [
    "_, otsu_image = cv2.threshold(gray_image, 0, 255, cv2.THRESH_BINARY + cv2.THRESH_OTSU)\n",
    "showImage(otsu_image)"
   ]
  },
  {
   "cell_type": "markdown",
   "id": "ccba9582",
   "metadata": {},
   "source": [
    "### Filtering\n",
    "Gaussian Blur"
   ]
  },
  {
   "cell_type": "code",
   "execution_count": 32,
   "id": "37c719ee",
   "metadata": {},
   "outputs": [],
   "source": [
    "blurred = cv2.GaussianBlur(img,\n",
    "                           (13, 13),    # Kernal, Always odd Number\n",
    "                           100         # Blur control\n",
    "                           )\n",
    "showImage(blurred)"
   ]
  },
  {
   "cell_type": "markdown",
   "id": "c9b6017f",
   "metadata": {},
   "source": [
    "Median Blur"
   ]
  },
  {
   "cell_type": "code",
   "execution_count": null,
   "id": "8cfdf55b",
   "metadata": {},
   "outputs": [],
   "source": [
    "median_blurred = cv2.medianBlur(img, \n",
    "                                101     # Blur Control, Always Odd\n",
    "                                )\n",
    "showImage(median_blurred)"
   ]
  },
  {
   "cell_type": "markdown",
   "id": "5eb3805e",
   "metadata": {},
   "source": [
    "Bilateral Filtering"
   ]
  },
  {
   "cell_type": "code",
   "execution_count": 40,
   "id": "5c2b4df7",
   "metadata": {},
   "outputs": [],
   "source": [
    "bFiltered = cv2.bilateralFilter(\n",
    "    img, \n",
    "    d=9,            # Kernal Window\n",
    "    sigmaColor=75,  # Colour difference to consider\n",
    "    sigmaSpace=75   # Pixels Distance\n",
    "    )  \n",
    "showImage(bFiltered)"
   ]
  },
  {
   "cell_type": "markdown",
   "id": "041e9042",
   "metadata": {},
   "source": [
    "Sharpening"
   ]
  },
  {
   "cell_type": "code",
   "execution_count": null,
   "id": "405cebd5",
   "metadata": {},
   "outputs": [],
   "source": [
    "blurred = cv2.GaussianBlur(img, (5, 5), 0)\n",
    "\n",
    "# Masking\n",
    "mask = cv2.subtract(img, blurred)\n",
    "\n",
    "# Sharpeness\n",
    "sharpened = cv2.addWeighted(\n",
    "    img, \n",
    "    1.0,    # weight for img\n",
    "    mask,   # edge mask\n",
    "    1.5,    # weight for mask\n",
    "    0       # brightness\n",
    "    )\n",
    "\n",
    "showImage(sharpened)"
   ]
  },
  {
   "cell_type": "markdown",
   "id": "d55a1dc2",
   "metadata": {},
   "source": [
    "### Edge Detection\n",
    "Sobel Edge Detection"
   ]
  },
  {
   "cell_type": "code",
   "execution_count": 53,
   "id": "1ac7d8f7",
   "metadata": {},
   "outputs": [],
   "source": [
    "sobel_x = cv2.Sobel(gray_image, cv2.CV_64F, dx=1, dy=0, ksize=3)  # Horizontal edges\n",
    "sobel_y = cv2.Sobel(gray_image, cv2.CV_64F, dx=0, dy=1, ksize=3)  # Vertical edges\n",
    "sobel_combined = cv2.addWeighted(\n",
    "    sobel_x, \n",
    "    0.1,        # weight for sobel_x\n",
    "    sobel_y,    # edge mask\n",
    "    0.1,        # weight for sobel_y\n",
    "    0           # brightness\n",
    "    )\n",
    "\n",
    "showImage(sobel_combined)\n"
   ]
  },
  {
   "cell_type": "markdown",
   "id": "29242daa",
   "metadata": {},
   "source": [
    "Canny Edge Detection"
   ]
  },
  {
   "cell_type": "code",
   "execution_count": 57,
   "id": "546c4882",
   "metadata": {},
   "outputs": [],
   "source": [
    "edges = cv2.Canny(blurred, threshold1=50, threshold2=150)  # Adjust thresholds\n",
    "\n",
    "showImage(edges)\n"
   ]
  },
  {
   "cell_type": "markdown",
   "id": "252911af",
   "metadata": {},
   "source": [
    "Laplacian Edge Detection"
   ]
  },
  {
   "cell_type": "code",
   "execution_count": 58,
   "id": "730c37a1",
   "metadata": {},
   "outputs": [],
   "source": [
    "laplacian = cv2.Laplacian(blurred, cv2.CV_64F)\n",
    "showImage(laplacian)"
   ]
  },
  {
   "cell_type": "code",
   "execution_count": 61,
   "id": "e3f9b349",
   "metadata": {},
   "outputs": [],
   "source": [
    "laplacian_abs = cv2.convertScaleAbs(laplacian)  # Convert to 8-bit image\n",
    "showImage(laplacian_abs)"
   ]
  },
  {
   "cell_type": "markdown",
   "id": "5c84c7f1",
   "metadata": {},
   "source": [
    "### Corner Detection\n",
    "Harris Corner Detection"
   ]
  },
  {
   "cell_type": "code",
   "execution_count": 72,
   "id": "e9c5c7d6",
   "metadata": {},
   "outputs": [],
   "source": [
    "img = cv2.imread('Document.jpg')\n",
    "img = cv2.resize(img,(600,800))"
   ]
  },
  {
   "cell_type": "code",
   "execution_count": 78,
   "id": "05e18b49",
   "metadata": {},
   "outputs": [],
   "source": [
    "import numpy as np\n",
    "\n",
    "img_rgb = cv2.cvtColor(img, cv2.COLOR_BGR2RGB)  # For matplotlib display\n",
    "gray = cv2.cvtColor(img, cv2.COLOR_BGR2GRAY)\n",
    "gray = np.float32(gray)\n",
    "dst = cv2.cornerHarris(gray, blockSize=2, ksize=3, k=0.04)\n",
    "dst = cv2.dilate(dst, None)\n",
    "img_corners = img_rgb.copy()\n",
    "img_corners[dst > 0.01 * dst.max()] = [0, 255, 0]  # Green color in RGB\n",
    "\n",
    "showImage(img_corners)\n"
   ]
  },
  {
   "cell_type": "code",
   "execution_count": 80,
   "id": "0fb4c689",
   "metadata": {},
   "outputs": [],
   "source": [
    "for c in cv2.goodFeaturesToTrack(gray, 100, 0.01, 10).astype(int):\n",
    "    x, y = c.ravel()\n",
    "    cv2.circle(img, (x, y), 5, (0, 255, 0), -1)\n",
    "showImage(img)\n"
   ]
  }
 ],
 "metadata": {
  "kernelspec": {
   "display_name": "Python 3",
   "language": "python",
   "name": "python3"
  },
  "language_info": {
   "codemirror_mode": {
    "name": "ipython",
    "version": 3
   },
   "file_extension": ".py",
   "mimetype": "text/x-python",
   "name": "python",
   "nbconvert_exporter": "python",
   "pygments_lexer": "ipython3",
   "version": "3.12.6"
  }
 },
 "nbformat": 4,
 "nbformat_minor": 5
}
