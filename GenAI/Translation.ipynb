{
 "cells": [
  {
   "cell_type": "code",
   "execution_count": 1,
   "id": "2814166a",
   "metadata": {},
   "outputs": [],
   "source": [
    "from transformers import MarianMTModel, MarianTokenizer"
   ]
  },
  {
   "cell_type": "code",
   "execution_count": 2,
   "id": "174ee2cd",
   "metadata": {},
   "outputs": [
    {
     "name": "stderr",
     "output_type": "stream",
     "text": [
      "c:\\Users\\Jash\\AppData\\Local\\Programs\\Python\\Python312\\Lib\\site-packages\\transformers\\models\\marian\\tokenization_marian.py:175: UserWarning: Recommended: pip install sacremoses.\n",
      "  warnings.warn(\"Recommended: pip install sacremoses.\")\n"
     ]
    }
   ],
   "source": [
    "model_name = 'Helsinki-NLP/opus-mt-en-de'\n",
    "tokenizer = MarianTokenizer.from_pretrained(model_name)\n",
    "model = MarianMTModel.from_pretrained(model_name)"
   ]
  },
  {
   "cell_type": "code",
   "execution_count": 3,
   "id": "6e979f48",
   "metadata": {},
   "outputs": [],
   "source": [
    "text = \"Microsoft Corporation is an American multinational corporation and technology conglomerate headquartered in Redmond, Washington. Founded in 1975, the company became influential in the rise of personal computers through software like Windows. The company has since expanded to Internet services, cloud computing\""
   ]
  },
  {
   "cell_type": "code",
   "execution_count": 6,
   "id": "901d9853",
   "metadata": {},
   "outputs": [
    {
     "data": {
      "text/plain": [
       "{'input_ids': tensor([[ 4580, 10854,    19,    39,  2035, 28656, 29239,     8,  1063, 48471,\n",
       "         39283,   108,     5,  2569,  9321,     2,  7289,     3, 33336,     5,\n",
       "          7560,     2,     4,   643,  2280, 33786,     5,     4,  2841,     7,\n",
       "          1291, 13147,   386,  1524,   209,  1169,     3,    36,   643,    99,\n",
       "           560, 12908,    12,   663,   532,     2, 10540, 28904,     0]]), 'attention_mask': tensor([[1, 1, 1, 1, 1, 1, 1, 1, 1, 1, 1, 1, 1, 1, 1, 1, 1, 1, 1, 1, 1, 1, 1, 1,\n",
       "         1, 1, 1, 1, 1, 1, 1, 1, 1, 1, 1, 1, 1, 1, 1, 1, 1, 1, 1, 1, 1, 1, 1, 1,\n",
       "         1]])}"
      ]
     },
     "execution_count": 6,
     "metadata": {},
     "output_type": "execute_result"
    }
   ],
   "source": [
    "inputs = tokenizer(text,return_tensors=\"pt\")\n",
    "inputs"
   ]
  },
  {
   "cell_type": "code",
   "execution_count": 13,
   "id": "ae469371",
   "metadata": {},
   "outputs": [
    {
     "data": {
      "text/plain": [
       "tensor([[58100,  4580, 10854,    29,    53, 12944,     6, 31163,     6,   411,\n",
       "            10,  2211,  2533,  6699,  7341,  2529,    30,  3448,     5,  2569,\n",
       "          9321,     2,  7289,     3,   518, 14084,    46,  7560,     2,   138,\n",
       "            44,   411,    53,  9670,  5084,     5,    25, 18521,    21,  2281,\n",
       "          1853,    34,   120,  1116,   107,  1169,     3,   103,   411,   109,\n",
       "            63, 22175,    37,   663,    13,  6140,     6,     2,  7132,    13,\n",
       "         14326,  1364,    79,     0]])"
      ]
     },
     "execution_count": 13,
     "metadata": {},
     "output_type": "execute_result"
    }
   ],
   "source": [
    "translated = model.generate(**inputs)\n",
    "translated\n"
   ]
  },
  {
   "cell_type": "code",
   "execution_count": 10,
   "id": "3dc102f9",
   "metadata": {},
   "outputs": [],
   "source": [
    "output = tokenizer.decode(translated[0], skip_special_tokens = True)\n"
   ]
  },
  {
   "cell_type": "code",
   "execution_count": 11,
   "id": "8bba1e12",
   "metadata": {},
   "outputs": [
    {
     "data": {
      "text/plain": [
       "'Microsoft Corporation ist ein amerikanisches multinationales Unternehmen und Technologiekonglomerat mit Sitz in Redmond, Washington. Gegründet 1975, wurde das Unternehmen einflussreich in den Aufstieg von Personal Computern durch Software wie Windows. Das Unternehmen hat sich seitdem auf Internet-Services, Cloud-Computing'"
      ]
     },
     "execution_count": 11,
     "metadata": {},
     "output_type": "execute_result"
    }
   ],
   "source": [
    "output"
   ]
  }
 ],
 "metadata": {
  "kernelspec": {
   "display_name": "Python 3",
   "language": "python",
   "name": "python3"
  },
  "language_info": {
   "codemirror_mode": {
    "name": "ipython",
    "version": 3
   },
   "file_extension": ".py",
   "mimetype": "text/x-python",
   "name": "python",
   "nbconvert_exporter": "python",
   "pygments_lexer": "ipython3",
   "version": "3.12.6"
  }
 },
 "nbformat": 4,
 "nbformat_minor": 5
}
