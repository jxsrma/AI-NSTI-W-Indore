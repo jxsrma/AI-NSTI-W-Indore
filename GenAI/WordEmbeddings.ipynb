{
 "cells": [
  {
   "cell_type": "code",
   "execution_count": 1,
   "id": "f11e1b86",
   "metadata": {},
   "outputs": [],
   "source": [
    "from transformers import AutoTokenizer, AutoModel\n",
    "import torch"
   ]
  },
  {
   "cell_type": "code",
   "execution_count": 2,
   "id": "45a8728f",
   "metadata": {},
   "outputs": [],
   "source": [
    "model_name = \"bert-base-uncased\""
   ]
  },
  {
   "cell_type": "code",
   "execution_count": 3,
   "id": "1cdb2932",
   "metadata": {},
   "outputs": [],
   "source": [
    "tokenizer = AutoTokenizer.from_pretrained(model_name)"
   ]
  },
  {
   "cell_type": "code",
   "execution_count": 4,
   "id": "6491e434",
   "metadata": {},
   "outputs": [],
   "source": [
    "model = AutoModel.from_pretrained(model_name)"
   ]
  },
  {
   "cell_type": "code",
   "execution_count": 5,
   "id": "8e07cba1",
   "metadata": {},
   "outputs": [],
   "source": [
    "para = \"Microsoft Corporation is an American multinational corporation and technology conglomerate headquartered in Redmond, Washington.[2] Founded in 1975, the company became influential in the rise of personal computers through software like Windows, and the company has since expanded to Internet services, cloud computing, video gaming and other fields. Microsoft is the largest software maker, one of the most valuable public U.S. companies,[a] and one of the most valuable brands globally.\""
   ]
  },
  {
   "cell_type": "code",
   "execution_count": 6,
   "id": "596d673c",
   "metadata": {},
   "outputs": [],
   "source": [
    "inputs = tokenizer(para, return_tensors=\"pt\")"
   ]
  },
  {
   "cell_type": "code",
   "execution_count": 7,
   "id": "74fe0257",
   "metadata": {},
   "outputs": [
    {
     "data": {
      "text/plain": [
       "{'input_ids': tensor([[  101,  7513,  3840,  2003,  2019,  2137, 20584,  3840,  1998,  2974,\n",
       "         22453,  9403,  1999,  2417, 11442,  1010,  2899,  1012,  1031,  1016,\n",
       "          1033,  2631,  1999,  3339,  1010,  1996,  2194,  2150,  6383,  1999,\n",
       "          1996,  4125,  1997,  3167,  7588,  2083,  4007,  2066,  3645,  1010,\n",
       "          1998,  1996,  2194,  2038,  2144,  4423,  2000,  4274,  2578,  1010,\n",
       "          6112,  9798,  1010,  2678, 10355,  1998,  2060,  4249,  1012,  7513,\n",
       "          2003,  1996,  2922,  4007,  9338,  1010,  2028,  1997,  1996,  2087,\n",
       "          7070,  2270,  1057,  1012,  1055,  1012,  3316,  1010,  1031,  1037,\n",
       "          1033,  1998,  2028,  1997,  1996,  2087,  7070,  9639, 16452,  1012,\n",
       "           102]]), 'token_type_ids': tensor([[0, 0, 0, 0, 0, 0, 0, 0, 0, 0, 0, 0, 0, 0, 0, 0, 0, 0, 0, 0, 0, 0, 0, 0,\n",
       "         0, 0, 0, 0, 0, 0, 0, 0, 0, 0, 0, 0, 0, 0, 0, 0, 0, 0, 0, 0, 0, 0, 0, 0,\n",
       "         0, 0, 0, 0, 0, 0, 0, 0, 0, 0, 0, 0, 0, 0, 0, 0, 0, 0, 0, 0, 0, 0, 0, 0,\n",
       "         0, 0, 0, 0, 0, 0, 0, 0, 0, 0, 0, 0, 0, 0, 0, 0, 0, 0, 0]]), 'attention_mask': tensor([[1, 1, 1, 1, 1, 1, 1, 1, 1, 1, 1, 1, 1, 1, 1, 1, 1, 1, 1, 1, 1, 1, 1, 1,\n",
       "         1, 1, 1, 1, 1, 1, 1, 1, 1, 1, 1, 1, 1, 1, 1, 1, 1, 1, 1, 1, 1, 1, 1, 1,\n",
       "         1, 1, 1, 1, 1, 1, 1, 1, 1, 1, 1, 1, 1, 1, 1, 1, 1, 1, 1, 1, 1, 1, 1, 1,\n",
       "         1, 1, 1, 1, 1, 1, 1, 1, 1, 1, 1, 1, 1, 1, 1, 1, 1, 1, 1]])}"
      ]
     },
     "execution_count": 7,
     "metadata": {},
     "output_type": "execute_result"
    }
   ],
   "source": [
    "inputs"
   ]
  },
  {
   "cell_type": "code",
   "execution_count": 8,
   "id": "2ba9891b",
   "metadata": {},
   "outputs": [],
   "source": [
    "with torch.no_grad():\n",
    "    outputs = model(**inputs)"
   ]
  },
  {
   "cell_type": "code",
   "execution_count": 9,
   "id": "d21a28c7",
   "metadata": {},
   "outputs": [],
   "source": [
    "last_hidden_states = outputs.last_hidden_state"
   ]
  },
  {
   "cell_type": "code",
   "execution_count": 10,
   "id": "86f36c97",
   "metadata": {},
   "outputs": [
    {
     "name": "stdout",
     "output_type": "stream",
     "text": [
      "tensor([[[-0.4203,  0.1354, -0.5316,  ..., -0.0415,  0.4308,  0.4760],\n",
      "         [ 0.0601,  0.8428, -0.4089,  ..., -0.5085,  0.2452,  0.6423],\n",
      "         [ 0.0252,  0.5190, -0.1949,  ..., -0.7482,  0.7509,  0.6965],\n",
      "         ...,\n",
      "         [ 0.0786,  0.1072,  0.2973,  ..., -0.2208,  0.8348, -0.3707],\n",
      "         [-0.4906, -0.3989, -0.0430,  ...,  0.5417,  0.8555, -0.7895],\n",
      "         [-0.8447,  0.1987, -0.1131,  ...,  0.0449,  0.0094, -0.2458]]])\n"
     ]
    }
   ],
   "source": [
    "print(last_hidden_states)"
   ]
  },
  {
   "cell_type": "code",
   "execution_count": 10,
   "id": "66bcb49a",
   "metadata": {},
   "outputs": [
    {
     "data": {
      "text/plain": [
       "torch.Size([1, 91, 768])"
      ]
     },
     "execution_count": 10,
     "metadata": {},
     "output_type": "execute_result"
    }
   ],
   "source": [
    "last_hidden_states.shape"
   ]
  }
 ],
 "metadata": {
  "kernelspec": {
   "display_name": "Python 3",
   "language": "python",
   "name": "python3"
  },
  "language_info": {
   "codemirror_mode": {
    "name": "ipython",
    "version": 3
   },
   "file_extension": ".py",
   "mimetype": "text/x-python",
   "name": "python",
   "nbconvert_exporter": "python",
   "pygments_lexer": "ipython3",
   "version": "3.12.6"
  }
 },
 "nbformat": 4,
 "nbformat_minor": 5
}
