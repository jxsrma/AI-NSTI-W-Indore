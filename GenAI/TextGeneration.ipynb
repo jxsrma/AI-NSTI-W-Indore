{
 "cells": [
  {
   "cell_type": "code",
   "execution_count": 1,
   "id": "da1654fc",
   "metadata": {},
   "outputs": [],
   "source": [
    "from transformers import pipeline"
   ]
  },
  {
   "cell_type": "code",
   "execution_count": 2,
   "id": "f3955d21",
   "metadata": {},
   "outputs": [
    {
     "name": "stderr",
     "output_type": "stream",
     "text": [
      "Device set to use cuda:0\n"
     ]
    }
   ],
   "source": [
    "generator = pipeline(\"text-generation\", model = \"gpt2\", framework=\"pt\")"
   ]
  },
  {
   "cell_type": "code",
   "execution_count": 13,
   "id": "afdfd1d7",
   "metadata": {},
   "outputs": [
    {
     "name": "stderr",
     "output_type": "stream",
     "text": [
      "You seem to be using the pipelines sequentially on GPU. In order to maximize efficiency please use a dataset\n",
      "Setting `pad_token_id` to `eos_token_id`:50256 for open-end generation.\n"
     ]
    },
    {
     "name": "stdout",
     "output_type": "stream",
     "text": [
      "what's in your fridge?\n",
      "\n",
      "Don't forget:\n",
      "\n",
      "I have been collecting and processing my homemade vegan pasta that the vegan bloggers I know love! All the information you will find in the articles above will help you make pasta that is super vegan for you, and will help you to stay on track with what's in your fridge.\n",
      "\n",
      "How much do I usually make vegan pasta at home?\n",
      "\n",
      "For every 500 calories of dairy product consumed, roughly 1/10 is sold.\n",
      "\n",
      "You may want to make a separate tab for each serving to keep track of your intake of dairy products.\n",
      "\n",
      "Are some of these diets gluten free?\n",
      "\n",
      "It's also important to know that some other types of dairy products, such as dairy products for children, may contain gluten and gluten free.\n",
      "\n",
      "Have I just discovered that I don't even really need to have a vegan diet?\n",
      "\n",
      "Yes, but with the right supplements, a vegan-only diet still only increases your likelihood of having any type of allergy to other plant-based foods (a common allergy found among vegan men and women – some researchers consider these foods to be plant-based).\n",
      "\n",
      "But what about the foods you just might not want to cut down on?\n",
      "\n",
      "These include organic vegetables, animal-based foods, organic oils, animal products, and many more. Check out our guide on how-to to vegan cookstuffs and plant-based cookbooks.\n",
      "\n",
      "What about dietary restrictions on meat and dairy products?\n",
      "\n",
      "Yes, many vegetarians can still make a healthy living from vegan foods and dairy products. But there are limits on what you should make from animal products.\n",
      "\n",
      "If you're on a diet-focused menu, you may want to limit yourself to more plant-based and low-fat recipes and to include fewer gluten-free alternatives like whole-grain bread from plant-based sources.\n",
      "\n",
      "What's your dietary change?\n",
      "\n",
      "Whether you're making vegetarian or vegan recipes, your family's food preferences can change as well, depending on the type of plants you choose to eat for yourself and your family.\n",
      "\n",
      "Vegetarian or vegan, you'll always have a choice when it comes to which plants you want to use as a vegan base – they're all different foods and don't provide as many nutrients.\n",
      "\n",
      "But on the other hand, what about the foods you choose to include as a vegetarian-friendly base, so that you won't run out of nutrients that other plant foods will provide? This is one of the key reasons you might choose to eliminate dairy and gluten.\n",
      "\n",
      "Do any of you still eat dairy?\n",
      "\n",
      "Dairy is widely consumed by the majority of vegetarians, especially in the UK.\n",
      "\n",
      "However, over the next 18 months, it could potentially have begun as a trend that may come to a standstill again.\n",
      "\n",
      "It's also worth noting that these health benefits are not necessarily limited to milk, beans, eggs, tofu, eggs, nuts, cheese, or seeds. We're also talking about a range of foods which may be more commonly consumed by individuals or groups with more stringent dietary practices – for example, high-calorie foods such as gluten-free or animal-based foods.\n",
      "\n",
      "What are some of my vegan dietary restrictions?\n"
     ]
    }
   ],
   "source": [
    "output = generator(\"what's in your\", max_length = 5000)\n",
    "# print(output[0]['generated_text'])\n",
    "print(output[0]['generated_text'])"
   ]
  }
 ],
 "metadata": {
  "kernelspec": {
   "display_name": "Python 3",
   "language": "python",
   "name": "python3"
  },
  "language_info": {
   "codemirror_mode": {
    "name": "ipython",
    "version": 3
   },
   "file_extension": ".py",
   "mimetype": "text/x-python",
   "name": "python",
   "nbconvert_exporter": "python",
   "pygments_lexer": "ipython3",
   "version": "3.12.6"
  }
 },
 "nbformat": 4,
 "nbformat_minor": 5
}
