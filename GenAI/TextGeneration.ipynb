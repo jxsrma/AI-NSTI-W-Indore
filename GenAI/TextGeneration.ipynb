{
 "cells": [
  {
   "cell_type": "code",
   "execution_count": 1,
   "id": "da1654fc",
   "metadata": {},
   "outputs": [],
   "source": [
    "from transformers import pipeline"
   ]
  },
  {
   "cell_type": "code",
   "execution_count": 2,
   "id": "f3955d21",
   "metadata": {},
   "outputs": [
    {
     "name": "stderr",
     "output_type": "stream",
     "text": [
      "Device set to use cuda:0\n"
     ]
    }
   ],
   "source": [
    "generator = pipeline(\"text-generation\", model = \"gpt2\", framework=\"pt\")"
   ]
  },
  {
   "cell_type": "code",
   "execution_count": 14,
   "id": "afdfd1d7",
   "metadata": {},
   "outputs": [
    {
     "name": "stderr",
     "output_type": "stream",
     "text": [
      "Setting `pad_token_id` to `eos_token_id`:50256 for open-end generation.\n"
     ]
    },
    {
     "name": "stdout",
     "output_type": "stream",
     "text": [
      "Indore is india's cleanest City. We call it a green city that's also where every other city is. But if you ask me, what I would say is I do not want people complaining about poor cleanliness. I like people paying attention to me because if I speak to you like what I say, I really do appreciate that, you think about what I say because you're asking for what I would, for what kind of clean life I would have.\n",
      "\n",
      "My friends know that I'm only going around to give them clean clothes and not take my shoes off. And if you get that, you can always have any clothes available. So what has been most challenging in this campaign that you, as mayor?\n",
      "\n",
      "Well, it's all about people. The fact that I'm always working to build bridges and make everything happen has also not been taken for granted. In fact, it's been almost one of times. I still have very many people working to get things done. And if you look at the city, it is very clean. We don't have any people drinking, that's part of our mission because a lot of the other cities are quite clean. And in fact, our water system is clean.\n",
      "\n",
      "I always talk to young people about their health because it is very good in terms of health and wellness. They go to work and work really hard, and it's nice to have people take care of their health so they can get to\n"
     ]
    }
   ],
   "source": [
    "output = generator(\"Indore is india's cleanest City.\", max_length = 300)\n",
    "print(output[0]['generated_text'])"
   ]
  }
 ],
 "metadata": {
  "kernelspec": {
   "display_name": "Python 3",
   "language": "python",
   "name": "python3"
  },
  "language_info": {
   "codemirror_mode": {
    "name": "ipython",
    "version": 3
   },
   "file_extension": ".py",
   "mimetype": "text/x-python",
   "name": "python",
   "nbconvert_exporter": "python",
   "pygments_lexer": "ipython3",
   "version": "3.12.6"
  }
 },
 "nbformat": 4,
 "nbformat_minor": 5
}
