{
 "cells": [
  {
   "cell_type": "code",
   "execution_count": 2,
   "id": "00fd7707",
   "metadata": {},
   "outputs": [
    {
     "name": "stdout",
     "output_type": "stream",
     "text": [
      "Requirement already satisfied: transformers in c:\\users\\jash\\appdata\\local\\programs\\python\\python312\\lib\\site-packages (4.51.3)\n",
      "Requirement already satisfied: torch in c:\\users\\jash\\appdata\\local\\programs\\python\\python312\\lib\\site-packages (2.3.1+cu121)\n",
      "Requirement already satisfied: filelock in c:\\users\\jash\\appdata\\local\\programs\\python\\python312\\lib\\site-packages (from transformers) (3.16.0)\n",
      "Requirement already satisfied: huggingface-hub<1.0,>=0.30.0 in c:\\users\\jash\\appdata\\local\\programs\\python\\python312\\lib\\site-packages (from transformers) (0.30.2)\n",
      "Requirement already satisfied: numpy>=1.17 in c:\\users\\jash\\appdata\\local\\programs\\python\\python312\\lib\\site-packages (from transformers) (1.26.4)\n",
      "Requirement already satisfied: packaging>=20.0 in c:\\users\\jash\\appdata\\roaming\\python\\python312\\site-packages (from transformers) (24.1)\n",
      "Requirement already satisfied: pyyaml>=5.1 in c:\\users\\jash\\appdata\\local\\programs\\python\\python312\\lib\\site-packages (from transformers) (6.0.2)\n",
      "Requirement already satisfied: regex!=2019.12.17 in c:\\users\\jash\\appdata\\local\\programs\\python\\python312\\lib\\site-packages (from transformers) (2024.11.6)\n",
      "Requirement already satisfied: requests in c:\\users\\jash\\appdata\\local\\programs\\python\\python312\\lib\\site-packages (from transformers) (2.32.3)\n",
      "Requirement already satisfied: tokenizers<0.22,>=0.21 in c:\\users\\jash\\appdata\\local\\programs\\python\\python312\\lib\\site-packages (from transformers) (0.21.1)\n",
      "Requirement already satisfied: safetensors>=0.4.3 in c:\\users\\jash\\appdata\\local\\programs\\python\\python312\\lib\\site-packages (from transformers) (0.5.3)\n",
      "Requirement already satisfied: tqdm>=4.27 in c:\\users\\jash\\appdata\\local\\programs\\python\\python312\\lib\\site-packages (from transformers) (4.67.1)\n",
      "Requirement already satisfied: fsspec>=2023.5.0 in c:\\users\\jash\\appdata\\local\\programs\\python\\python312\\lib\\site-packages (from huggingface-hub<1.0,>=0.30.0->transformers) (2024.9.0)\n",
      "Requirement already satisfied: typing-extensions>=3.7.4.3 in c:\\users\\jash\\appdata\\local\\programs\\python\\python312\\lib\\site-packages (from huggingface-hub<1.0,>=0.30.0->transformers) (4.12.2)\n",
      "Requirement already satisfied: sympy in c:\\users\\jash\\appdata\\local\\programs\\python\\python312\\lib\\site-packages (from torch) (1.13.2)\n",
      "Requirement already satisfied: networkx in c:\\users\\jash\\appdata\\local\\programs\\python\\python312\\lib\\site-packages (from torch) (3.3)\n",
      "Requirement already satisfied: jinja2 in c:\\users\\jash\\appdata\\local\\programs\\python\\python312\\lib\\site-packages (from torch) (3.1.4)\n",
      "Requirement already satisfied: mkl<=2021.4.0,>=2021.1.1 in c:\\users\\jash\\appdata\\local\\programs\\python\\python312\\lib\\site-packages (from torch) (2021.4.0)\n",
      "Requirement already satisfied: intel-openmp==2021.* in c:\\users\\jash\\appdata\\local\\programs\\python\\python312\\lib\\site-packages (from mkl<=2021.4.0,>=2021.1.1->torch) (2021.4.0)\n",
      "Requirement already satisfied: tbb==2021.* in c:\\users\\jash\\appdata\\local\\programs\\python\\python312\\lib\\site-packages (from mkl<=2021.4.0,>=2021.1.1->torch) (2021.13.1)\n",
      "Requirement already satisfied: colorama in c:\\users\\jash\\appdata\\roaming\\python\\python312\\site-packages (from tqdm>=4.27->transformers) (0.4.6)\n",
      "Requirement already satisfied: MarkupSafe>=2.0 in c:\\users\\jash\\appdata\\local\\programs\\python\\python312\\lib\\site-packages (from jinja2->torch) (2.1.5)\n",
      "Requirement already satisfied: charset-normalizer<4,>=2 in c:\\users\\jash\\appdata\\local\\programs\\python\\python312\\lib\\site-packages (from requests->transformers) (3.3.2)\n",
      "Requirement already satisfied: idna<4,>=2.5 in c:\\users\\jash\\appdata\\local\\programs\\python\\python312\\lib\\site-packages (from requests->transformers) (3.10)\n",
      "Requirement already satisfied: urllib3<3,>=1.21.1 in c:\\users\\jash\\appdata\\local\\programs\\python\\python312\\lib\\site-packages (from requests->transformers) (2.2.3)\n",
      "Requirement already satisfied: certifi>=2017.4.17 in c:\\users\\jash\\appdata\\local\\programs\\python\\python312\\lib\\site-packages (from requests->transformers) (2024.8.30)\n",
      "Requirement already satisfied: mpmath<1.4,>=1.1.0 in c:\\users\\jash\\appdata\\local\\programs\\python\\python312\\lib\\site-packages (from sympy->torch) (1.3.0)\n",
      "Note: you may need to restart the kernel to use updated packages.\n"
     ]
    },
    {
     "name": "stderr",
     "output_type": "stream",
     "text": [
      "\n",
      "[notice] A new release of pip is available: 25.1 -> 25.1.1\n",
      "[notice] To update, run: python.exe -m pip install --upgrade pip\n"
     ]
    }
   ],
   "source": [
    "%pip install transformers torch"
   ]
  },
  {
   "cell_type": "code",
   "execution_count": 3,
   "id": "ecb3fccb",
   "metadata": {},
   "outputs": [],
   "source": [
    "from transformers import AutoTokenizer"
   ]
  },
  {
   "cell_type": "code",
   "execution_count": 5,
   "id": "d235b712",
   "metadata": {},
   "outputs": [],
   "source": [
    "tokenizer = AutoTokenizer.from_pretrained(\"bert-base-uncased\")"
   ]
  },
  {
   "cell_type": "code",
   "execution_count": 6,
   "id": "154d1c96",
   "metadata": {},
   "outputs": [],
   "source": [
    "para = \"Microsoft Corporation is an American multinational corporation and technology conglomerate headquartered in Redmond, Washington.[2] Founded in 1975, the company became influential in the rise of personal computers through software like Windows, and the company has since expanded to Internet services, cloud computing, video gaming and other fields. Microsoft is the largest software maker, one of the most valuable public U.S. companies,[a] and one of the most valuable brands globally.\""
   ]
  },
  {
   "cell_type": "code",
   "execution_count": 7,
   "id": "e47740a5",
   "metadata": {},
   "outputs": [],
   "source": [
    "tokens = tokenizer.tokenize(para)"
   ]
  },
  {
   "cell_type": "code",
   "execution_count": 8,
   "id": "4e185959",
   "metadata": {},
   "outputs": [],
   "source": [
    "tokenIds = tokenizer.convert_tokens_to_ids(tokens)"
   ]
  },
  {
   "cell_type": "code",
   "execution_count": 9,
   "id": "1ca57ed7",
   "metadata": {},
   "outputs": [
    {
     "data": {
      "text/plain": [
       "['microsoft',\n",
       " 'corporation',\n",
       " 'is',\n",
       " 'an',\n",
       " 'american',\n",
       " 'multinational',\n",
       " 'corporation',\n",
       " 'and',\n",
       " 'technology',\n",
       " 'conglomerate',\n",
       " 'headquartered',\n",
       " 'in',\n",
       " 'red',\n",
       " '##mond',\n",
       " ',',\n",
       " 'washington',\n",
       " '.',\n",
       " '[',\n",
       " '2',\n",
       " ']',\n",
       " 'founded',\n",
       " 'in',\n",
       " '1975',\n",
       " ',',\n",
       " 'the',\n",
       " 'company',\n",
       " 'became',\n",
       " 'influential',\n",
       " 'in',\n",
       " 'the',\n",
       " 'rise',\n",
       " 'of',\n",
       " 'personal',\n",
       " 'computers',\n",
       " 'through',\n",
       " 'software',\n",
       " 'like',\n",
       " 'windows',\n",
       " ',',\n",
       " 'and',\n",
       " 'the',\n",
       " 'company',\n",
       " 'has',\n",
       " 'since',\n",
       " 'expanded',\n",
       " 'to',\n",
       " 'internet',\n",
       " 'services',\n",
       " ',',\n",
       " 'cloud',\n",
       " 'computing',\n",
       " ',',\n",
       " 'video',\n",
       " 'gaming',\n",
       " 'and',\n",
       " 'other',\n",
       " 'fields',\n",
       " '.',\n",
       " 'microsoft',\n",
       " 'is',\n",
       " 'the',\n",
       " 'largest',\n",
       " 'software',\n",
       " 'maker',\n",
       " ',',\n",
       " 'one',\n",
       " 'of',\n",
       " 'the',\n",
       " 'most',\n",
       " 'valuable',\n",
       " 'public',\n",
       " 'u',\n",
       " '.',\n",
       " 's',\n",
       " '.',\n",
       " 'companies',\n",
       " ',',\n",
       " '[',\n",
       " 'a',\n",
       " ']',\n",
       " 'and',\n",
       " 'one',\n",
       " 'of',\n",
       " 'the',\n",
       " 'most',\n",
       " 'valuable',\n",
       " 'brands',\n",
       " 'globally',\n",
       " '.']"
      ]
     },
     "execution_count": 9,
     "metadata": {},
     "output_type": "execute_result"
    }
   ],
   "source": [
    "tokens"
   ]
  },
  {
   "cell_type": "code",
   "execution_count": 11,
   "id": "19537fdb",
   "metadata": {},
   "outputs": [
    {
     "data": {
      "text/plain": [
       "[7513,\n",
       " 3840,\n",
       " 2003,\n",
       " 2019,\n",
       " 2137,\n",
       " 20584,\n",
       " 3840,\n",
       " 1998,\n",
       " 2974,\n",
       " 22453,\n",
       " 9403,\n",
       " 1999,\n",
       " 2417,\n",
       " 11442,\n",
       " 1010,\n",
       " 2899,\n",
       " 1012,\n",
       " 1031,\n",
       " 1016,\n",
       " 1033,\n",
       " 2631,\n",
       " 1999,\n",
       " 3339,\n",
       " 1010,\n",
       " 1996,\n",
       " 2194,\n",
       " 2150,\n",
       " 6383,\n",
       " 1999,\n",
       " 1996,\n",
       " 4125,\n",
       " 1997,\n",
       " 3167,\n",
       " 7588,\n",
       " 2083,\n",
       " 4007,\n",
       " 2066,\n",
       " 3645,\n",
       " 1010,\n",
       " 1998,\n",
       " 1996,\n",
       " 2194,\n",
       " 2038,\n",
       " 2144,\n",
       " 4423,\n",
       " 2000,\n",
       " 4274,\n",
       " 2578,\n",
       " 1010,\n",
       " 6112,\n",
       " 9798,\n",
       " 1010,\n",
       " 2678,\n",
       " 10355,\n",
       " 1998,\n",
       " 2060,\n",
       " 4249,\n",
       " 1012,\n",
       " 7513,\n",
       " 2003,\n",
       " 1996,\n",
       " 2922,\n",
       " 4007,\n",
       " 9338,\n",
       " 1010,\n",
       " 2028,\n",
       " 1997,\n",
       " 1996,\n",
       " 2087,\n",
       " 7070,\n",
       " 2270,\n",
       " 1057,\n",
       " 1012,\n",
       " 1055,\n",
       " 1012,\n",
       " 3316,\n",
       " 1010,\n",
       " 1031,\n",
       " 1037,\n",
       " 1033,\n",
       " 1998,\n",
       " 2028,\n",
       " 1997,\n",
       " 1996,\n",
       " 2087,\n",
       " 7070,\n",
       " 9639,\n",
       " 16452,\n",
       " 1012]"
      ]
     },
     "execution_count": 11,
     "metadata": {},
     "output_type": "execute_result"
    }
   ],
   "source": [
    "tokenIds"
   ]
  }
 ],
 "metadata": {
  "kernelspec": {
   "display_name": "Python 3",
   "language": "python",
   "name": "python3"
  },
  "language_info": {
   "codemirror_mode": {
    "name": "ipython",
    "version": 3
   },
   "file_extension": ".py",
   "mimetype": "text/x-python",
   "name": "python",
   "nbconvert_exporter": "python",
   "pygments_lexer": "ipython3",
   "version": "3.12.6"
  }
 },
 "nbformat": 4,
 "nbformat_minor": 5
}
