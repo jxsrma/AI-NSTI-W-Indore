{
 "cells": [
  {
   "cell_type": "markdown",
   "id": "2f85f27c",
   "metadata": {},
   "source": [
    "# Student Data Analysis"
   ]
  },
  {
   "cell_type": "markdown",
   "id": "80668dca",
   "metadata": {},
   "source": [
    "## 🔧 Preprocessing\n",
    " - Identify and impute missing values for continuous and categorical features.\n",
    " - Encode gender and other categorical fields using Label Encoding or One-Hot Encoding.\n",
    " - Normalize numerical features using StandardScaler.\n",
    " - Remove outliers in exam_stress_level and part_time_work_hours using Z-score.\n",
    " - Drop duplicate records if present.\n",
    "\n",
    "## 📊 Exploratory Data Analysis (EDA)\n",
    " - Plot histograms of gpa, mental_health_score, and exam_stress_level.\n",
    " - Analyze the relationship between hours_studied and gpa using a regression plot.\n",
    " - Compare average GPA between students with high and low sleep_quality.\n",
    " - Plot a correlation heatmap for all numeric variables.\n",
    " - Visualize gender distribution with a pie chart.\n",
    "\n",
    "## 📈 Regression Models\n",
    " - Build a Linear Regression model to predict gpa using all other numeric features.\n",
    " - Evaluate the model using MAE, RMSE, and R² score.\n",
    " - Visualize predicted vs actual GPA with a scatter plot.\n",
    " - Compare prediction results for mental_health_score using a regression model — which features are more predictive?\n",
    "\n",
    "## 🎯 Classification Models\n",
    " - Train a Logistic Regression model to classify passed_gpa.\n",
    " - Evaluate using precision, recall, accuracy, and F1 score.\n",
    " - Train a Decision Tree Classifier to predict healthy_lifestyle.\n",
    " - Visualize the tree and discuss feature importance.\n",
    " - Use a Random Forest Classifier and compare its F1 score with the Decision Tree.\n",
    "\n",
    "## 🧩 Clustering\n",
    " - Cluster students into 3 groups using KMeans on sleep_quality, exam_stress_level, and mental_health_score.\n",
    " - Reduce dimensionality with t-SNE and visualize clusters with color-coded points.\n",
    "\n",
    "## ⚙ Support Vector Machine (SVM)\n",
    " - Use SVM to classify whether a student passed_gpa using all features.\n",
    " - Try both linear and RBF kernels and compare their performance metrics."
   ]
  },
  {
   "cell_type": "markdown",
   "id": "62898212",
   "metadata": {},
   "source": [
    "| Column Name            | Description                                                    |\n",
    "|-------------------------|----------------------------------------------------------------|\n",
    "| student_id              | Unique student identifier                                      |\n",
    "| age                     | Student's age                                                  |\n",
    "| gender                  | 'Male', 'Female', 'Non-binary'                                 |\n",
    "| sleep_quality           | Self-reported sleep quality on a scale of 1–10                 |\n",
    "| meal_quality            | Self-reported diet rating (1–10)                               |\n",
    "| exercise_frequency      | Days per week of moderate exercise                             |\n",
    "| hours_studied           | Average study hours per week                                   |\n",
    "| part_time_work_hours    | Weekly hours spent on part-time work                           |\n",
    "| mental_health_score     | Composite score (higher = better mental health)                |\n",
    "| exam_stress_level       | Stress level before exams (1–10)                               |\n",
    "| gpa                     | Final GPA (0.0 to 4.0)                                          |\n",
    "| passed_gpa              | 1 if GPA ≥ 2.5, else 0                                          |\n",
    "| healthy_lifestyle       | 1 if sleep_quality, meal_quality, and exercise_frequency are all above median |\n",
    "| cluster_type            | Pre-labeled cluster from prior segmentation                    |\n"
   ]
  }
 ],
 "metadata": {
  "language_info": {
   "name": "python"
  }
 },
 "nbformat": 4,
 "nbformat_minor": 5
}
