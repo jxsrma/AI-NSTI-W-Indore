{
 "cells": [
  {
   "cell_type": "markdown",
   "id": "c6f9a191",
   "metadata": {},
   "source": [
    "📁 Data Understanding & Preprocessing\n",
    "\n",
    "[Loading] Load the dataset and display the first 5 documents.\n",
    "[Inspection] What is the average number of words per document?\n",
    "[Cleaning] Write a function to preprocess text: lowercase, remove punctuation, remove stopwords.\n",
    "[Tokenization] Tokenize each document into words.\n",
    "[Lemmatization] Apply lemmatization\n",
    "\n",
    "🧠 LDA Topic Modeling\n",
    "\n",
    "[Corpus] Convert the text into a Bag-of-Words corpus.\n",
    "[TF-IDF] Optional: Apply TF-IDF before LDA. What does it change?\n",
    "[Model Creation] Train a basic LDA model with 3 topics.\n",
    "[Topic Interpretation] Print the top 10 words for each topic. How do they relate to the original themes?"
   ]
  }
 ],
 "metadata": {
  "language_info": {
   "name": "python"
  }
 },
 "nbformat": 4,
 "nbformat_minor": 5
}
