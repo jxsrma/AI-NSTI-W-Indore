{
 "cells": [
  {
   "cell_type": "code",
   "execution_count": 12,
   "id": "6e13c0ee",
   "metadata": {},
   "outputs": [],
   "source": [
    "para = \"Microsoft Corporation is an American multinational corporation and technology conglomerate headquartered in Redmond, Washington.[2] Founded in 1975, the company became influential in the rise of personal computers through software like Windows, and the company has since expanded to Internet services, cloud computing, video gaming and other fields. Microsoft is the largest software maker, one of the most valuable public U.S. companies,[a] and one of the most valuable brands globally.\""
   ]
  },
  {
   "cell_type": "code",
   "execution_count": 13,
   "id": "6f58ec2f",
   "metadata": {},
   "outputs": [],
   "source": [
    "import nltk\n",
    "import re"
   ]
  },
  {
   "cell_type": "markdown",
   "id": "1dbbf8d0",
   "metadata": {},
   "source": [
    "Lower Case"
   ]
  },
  {
   "cell_type": "code",
   "execution_count": 14,
   "id": "edf8ca41",
   "metadata": {},
   "outputs": [
    {
     "data": {
      "text/plain": [
       "'microsoft corporation is an american multinational corporation and technology conglomerate headquartered in redmond, washington.[2] founded in 1975, the company became influential in the rise of personal computers through software like windows, and the company has since expanded to internet services, cloud computing, video gaming and other fields. microsoft is the largest software maker, one of the most valuable public u.s. companies,[a] and one of the most valuable brands globally.'"
      ]
     },
     "execution_count": 14,
     "metadata": {},
     "output_type": "execute_result"
    }
   ],
   "source": [
    "para = para.lower()\n",
    "para"
   ]
  },
  {
   "cell_type": "markdown",
   "id": "8a5ad21a",
   "metadata": {},
   "source": [
    "Symbol Removal"
   ]
  },
  {
   "cell_type": "code",
   "execution_count": 16,
   "id": "601219f6",
   "metadata": {},
   "outputs": [
    {
     "data": {
      "text/plain": [
       "'microsoft corporation is an american multinational corporation and technology conglomerate headquartered in redmond washington founded in  the company became influential in the rise of personal computers through software like windows and the company has since expanded to internet services cloud computing video gaming and other fields microsoft is the largest software maker one of the most valuable public us companiesa and one of the most valuable brands globally'"
      ]
     },
     "execution_count": 16,
     "metadata": {},
     "output_type": "execute_result"
    }
   ],
   "source": [
    "para = re.sub(r'[^a-zA-Z\\s]','',para)\n",
    "para"
   ]
  },
  {
   "cell_type": "markdown",
   "id": "79387a82",
   "metadata": {},
   "source": [
    "Tokenizing words"
   ]
  },
  {
   "cell_type": "code",
   "execution_count": 17,
   "id": "cd438bbb",
   "metadata": {},
   "outputs": [
    {
     "data": {
      "text/plain": [
       "['microsoft',\n",
       " 'corporation',\n",
       " 'is',\n",
       " 'an',\n",
       " 'american',\n",
       " 'multinational',\n",
       " 'corporation',\n",
       " 'and',\n",
       " 'technology',\n",
       " 'conglomerate',\n",
       " 'headquartered',\n",
       " 'in',\n",
       " 'redmond',\n",
       " 'washington',\n",
       " 'founded',\n",
       " 'in',\n",
       " 'the',\n",
       " 'company',\n",
       " 'became',\n",
       " 'influential',\n",
       " 'in',\n",
       " 'the',\n",
       " 'rise',\n",
       " 'of',\n",
       " 'personal',\n",
       " 'computers',\n",
       " 'through',\n",
       " 'software',\n",
       " 'like',\n",
       " 'windows',\n",
       " 'and',\n",
       " 'the',\n",
       " 'company',\n",
       " 'has',\n",
       " 'since',\n",
       " 'expanded',\n",
       " 'to',\n",
       " 'internet',\n",
       " 'services',\n",
       " 'cloud',\n",
       " 'computing',\n",
       " 'video',\n",
       " 'gaming',\n",
       " 'and',\n",
       " 'other',\n",
       " 'fields',\n",
       " 'microsoft',\n",
       " 'is',\n",
       " 'the',\n",
       " 'largest',\n",
       " 'software',\n",
       " 'maker',\n",
       " 'one',\n",
       " 'of',\n",
       " 'the',\n",
       " 'most',\n",
       " 'valuable',\n",
       " 'public',\n",
       " 'us',\n",
       " 'companiesa',\n",
       " 'and',\n",
       " 'one',\n",
       " 'of',\n",
       " 'the',\n",
       " 'most',\n",
       " 'valuable',\n",
       " 'brands',\n",
       " 'globally']"
      ]
     },
     "execution_count": 17,
     "metadata": {},
     "output_type": "execute_result"
    }
   ],
   "source": [
    "para_words = nltk.word_tokenize(para)\n",
    "para_words"
   ]
  },
  {
   "cell_type": "markdown",
   "id": "3298294f",
   "metadata": {},
   "source": [
    "Stopwords Removal"
   ]
  },
  {
   "cell_type": "code",
   "execution_count": 18,
   "id": "49a74680",
   "metadata": {},
   "outputs": [],
   "source": [
    "from nltk.corpus import stopwords"
   ]
  },
  {
   "cell_type": "code",
   "execution_count": 20,
   "id": "618367d8",
   "metadata": {},
   "outputs": [
    {
     "data": {
      "text/plain": [
       "['a',\n",
       " 'about',\n",
       " 'above',\n",
       " 'after',\n",
       " 'again',\n",
       " 'against',\n",
       " 'ain',\n",
       " 'all',\n",
       " 'am',\n",
       " 'an',\n",
       " 'and',\n",
       " 'any',\n",
       " 'are',\n",
       " 'aren',\n",
       " \"aren't\",\n",
       " 'as',\n",
       " 'at',\n",
       " 'be',\n",
       " 'because',\n",
       " 'been',\n",
       " 'before',\n",
       " 'being',\n",
       " 'below',\n",
       " 'between',\n",
       " 'both',\n",
       " 'but',\n",
       " 'by',\n",
       " 'can',\n",
       " 'couldn',\n",
       " \"couldn't\",\n",
       " 'd',\n",
       " 'did',\n",
       " 'didn',\n",
       " \"didn't\",\n",
       " 'do',\n",
       " 'does',\n",
       " 'doesn',\n",
       " \"doesn't\",\n",
       " 'doing',\n",
       " 'don',\n",
       " \"don't\",\n",
       " 'down',\n",
       " 'during',\n",
       " 'each',\n",
       " 'few',\n",
       " 'for',\n",
       " 'from',\n",
       " 'further',\n",
       " 'had',\n",
       " 'hadn',\n",
       " \"hadn't\",\n",
       " 'has',\n",
       " 'hasn',\n",
       " \"hasn't\",\n",
       " 'have',\n",
       " 'haven',\n",
       " \"haven't\",\n",
       " 'having',\n",
       " 'he',\n",
       " \"he'd\",\n",
       " \"he'll\",\n",
       " 'her',\n",
       " 'here',\n",
       " 'hers',\n",
       " 'herself',\n",
       " \"he's\",\n",
       " 'him',\n",
       " 'himself',\n",
       " 'his',\n",
       " 'how',\n",
       " 'i',\n",
       " \"i'd\",\n",
       " 'if',\n",
       " \"i'll\",\n",
       " \"i'm\",\n",
       " 'in',\n",
       " 'into',\n",
       " 'is',\n",
       " 'isn',\n",
       " \"isn't\",\n",
       " 'it',\n",
       " \"it'd\",\n",
       " \"it'll\",\n",
       " \"it's\",\n",
       " 'its',\n",
       " 'itself',\n",
       " \"i've\",\n",
       " 'just',\n",
       " 'll',\n",
       " 'm',\n",
       " 'ma',\n",
       " 'me',\n",
       " 'mightn',\n",
       " \"mightn't\",\n",
       " 'more',\n",
       " 'most',\n",
       " 'mustn',\n",
       " \"mustn't\",\n",
       " 'my',\n",
       " 'myself',\n",
       " 'needn',\n",
       " \"needn't\",\n",
       " 'no',\n",
       " 'nor',\n",
       " 'not',\n",
       " 'now',\n",
       " 'o',\n",
       " 'of',\n",
       " 'off',\n",
       " 'on',\n",
       " 'once',\n",
       " 'only',\n",
       " 'or',\n",
       " 'other',\n",
       " 'our',\n",
       " 'ours',\n",
       " 'ourselves',\n",
       " 'out',\n",
       " 'over',\n",
       " 'own',\n",
       " 're',\n",
       " 's',\n",
       " 'same',\n",
       " 'shan',\n",
       " \"shan't\",\n",
       " 'she',\n",
       " \"she'd\",\n",
       " \"she'll\",\n",
       " \"she's\",\n",
       " 'should',\n",
       " 'shouldn',\n",
       " \"shouldn't\",\n",
       " \"should've\",\n",
       " 'so',\n",
       " 'some',\n",
       " 'such',\n",
       " 't',\n",
       " 'than',\n",
       " 'that',\n",
       " \"that'll\",\n",
       " 'the',\n",
       " 'their',\n",
       " 'theirs',\n",
       " 'them',\n",
       " 'themselves',\n",
       " 'then',\n",
       " 'there',\n",
       " 'these',\n",
       " 'they',\n",
       " \"they'd\",\n",
       " \"they'll\",\n",
       " \"they're\",\n",
       " \"they've\",\n",
       " 'this',\n",
       " 'those',\n",
       " 'through',\n",
       " 'to',\n",
       " 'too',\n",
       " 'under',\n",
       " 'until',\n",
       " 'up',\n",
       " 've',\n",
       " 'very',\n",
       " 'was',\n",
       " 'wasn',\n",
       " \"wasn't\",\n",
       " 'we',\n",
       " \"we'd\",\n",
       " \"we'll\",\n",
       " \"we're\",\n",
       " 'were',\n",
       " 'weren',\n",
       " \"weren't\",\n",
       " \"we've\",\n",
       " 'what',\n",
       " 'when',\n",
       " 'where',\n",
       " 'which',\n",
       " 'while',\n",
       " 'who',\n",
       " 'whom',\n",
       " 'why',\n",
       " 'will',\n",
       " 'with',\n",
       " 'won',\n",
       " \"won't\",\n",
       " 'wouldn',\n",
       " \"wouldn't\",\n",
       " 'y',\n",
       " 'you',\n",
       " \"you'd\",\n",
       " \"you'll\",\n",
       " 'your',\n",
       " \"you're\",\n",
       " 'yours',\n",
       " 'yourself',\n",
       " 'yourselves',\n",
       " \"you've\"]"
      ]
     },
     "execution_count": 20,
     "metadata": {},
     "output_type": "execute_result"
    }
   ],
   "source": [
    "stops = stopwords.words('english')\n",
    "stops"
   ]
  },
  {
   "cell_type": "code",
   "execution_count": 21,
   "id": "f4a8b08f",
   "metadata": {},
   "outputs": [
    {
     "data": {
      "text/plain": [
       "['microsoft',\n",
       " 'corporation',\n",
       " 'american',\n",
       " 'multinational',\n",
       " 'corporation',\n",
       " 'technology',\n",
       " 'conglomerate',\n",
       " 'headquartered',\n",
       " 'redmond',\n",
       " 'washington',\n",
       " 'founded',\n",
       " 'company',\n",
       " 'became',\n",
       " 'influential',\n",
       " 'rise',\n",
       " 'personal',\n",
       " 'computers',\n",
       " 'software',\n",
       " 'like',\n",
       " 'windows',\n",
       " 'company',\n",
       " 'since',\n",
       " 'expanded',\n",
       " 'internet',\n",
       " 'services',\n",
       " 'cloud',\n",
       " 'computing',\n",
       " 'video',\n",
       " 'gaming',\n",
       " 'fields',\n",
       " 'microsoft',\n",
       " 'largest',\n",
       " 'software',\n",
       " 'maker',\n",
       " 'one',\n",
       " 'valuable',\n",
       " 'public',\n",
       " 'us',\n",
       " 'companiesa',\n",
       " 'one',\n",
       " 'valuable',\n",
       " 'brands',\n",
       " 'globally']"
      ]
     },
     "execution_count": 21,
     "metadata": {},
     "output_type": "execute_result"
    }
   ],
   "source": [
    "# filtered = [word for word in para_words if word not in stops]\n",
    "filtered = []\n",
    "for word in para_words:\n",
    "    if word not in stops:\n",
    "        filtered.append(word)\n",
    "filtered"
   ]
  },
  {
   "cell_type": "markdown",
   "id": "0e9fa884",
   "metadata": {},
   "source": [
    "Final Output"
   ]
  },
  {
   "cell_type": "code",
   "execution_count": 22,
   "id": "837982d9",
   "metadata": {},
   "outputs": [
    {
     "data": {
      "text/plain": [
       "'microsoft corporation american multinational corporation technology conglomerate headquartered redmond washington founded company became influential rise personal computers software like windows company since expanded internet services cloud computing video gaming fields microsoft largest software maker one valuable public us companiesa one valuable brands globally'"
      ]
     },
     "execution_count": 22,
     "metadata": {},
     "output_type": "execute_result"
    }
   ],
   "source": [
    "preprocessed = ' '.join(filtered)\n",
    "preprocessed"
   ]
  }
 ],
 "metadata": {
  "kernelspec": {
   "display_name": "Python 3",
   "language": "python",
   "name": "python3"
  },
  "language_info": {
   "codemirror_mode": {
    "name": "ipython",
    "version": 3
   },
   "file_extension": ".py",
   "mimetype": "text/x-python",
   "name": "python",
   "nbconvert_exporter": "python",
   "pygments_lexer": "ipython3",
   "version": "3.12.6"
  }
 },
 "nbformat": 4,
 "nbformat_minor": 5
}
