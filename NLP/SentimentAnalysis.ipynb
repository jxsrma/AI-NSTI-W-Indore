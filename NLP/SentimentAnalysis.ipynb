{
 "cells": [
  {
   "cell_type": "code",
   "execution_count": 1,
   "id": "885dc07c",
   "metadata": {},
   "outputs": [],
   "source": [
    "from nltk.sentiment import SentimentIntensityAnalyzer"
   ]
  },
  {
   "cell_type": "code",
   "execution_count": 2,
   "id": "1700b40d",
   "metadata": {},
   "outputs": [],
   "source": [
    "positive = \"This song always puts me in a good mood. It's my go-to feel-good track!\"\n",
    "negative = \"I had a terrible experience with their customer support.\""
   ]
  },
  {
   "cell_type": "code",
   "execution_count": 3,
   "id": "b60db6dc",
   "metadata": {},
   "outputs": [],
   "source": [
    "import nltk \n",
    "# nltk.download('vader_lexicon')\n",
    "sia = SentimentIntensityAnalyzer()"
   ]
  },
  {
   "cell_type": "code",
   "execution_count": 4,
   "id": "78f6b4a6",
   "metadata": {},
   "outputs": [
    {
     "data": {
      "text/plain": [
       "{'neg': 0.0, 'neu': 0.79, 'pos': 0.21, 'compound': 0.4926}"
      ]
     },
     "execution_count": 4,
     "metadata": {},
     "output_type": "execute_result"
    }
   ],
   "source": [
    "sia.polarity_scores(positive)"
   ]
  },
  {
   "cell_type": "code",
   "execution_count": 5,
   "id": "4762750a",
   "metadata": {},
   "outputs": [
    {
     "data": {
      "text/plain": [
       "{'neg': 0.287, 'neu': 0.463, 'pos': 0.25, 'compound': -0.1027}"
      ]
     },
     "execution_count": 5,
     "metadata": {},
     "output_type": "execute_result"
    }
   ],
   "source": [
    "sia.polarity_scores(negative)"
   ]
  },
  {
   "cell_type": "code",
   "execution_count": 6,
   "id": "9d243f20",
   "metadata": {},
   "outputs": [],
   "source": [
    "from textblob import TextBlob"
   ]
  },
  {
   "cell_type": "code",
   "execution_count": 7,
   "id": "5072edbb",
   "metadata": {},
   "outputs": [],
   "source": [
    "# sent = TextBlob.sentiment\n",
    "text1 = TextBlob(positive)\n",
    "text2 = TextBlob(negative)"
   ]
  },
  {
   "cell_type": "code",
   "execution_count": 8,
   "id": "1f5d294e",
   "metadata": {},
   "outputs": [
    {
     "name": "stdout",
     "output_type": "stream",
     "text": [
      "Sentiment(polarity=0.875, subjectivity=0.6000000000000001)\n"
     ]
    }
   ],
   "source": [
    "sent1 = text1.sentiment\n",
    "print(sent1)"
   ]
  },
  {
   "cell_type": "code",
   "execution_count": 9,
   "id": "49ce18ae",
   "metadata": {},
   "outputs": [
    {
     "name": "stdout",
     "output_type": "stream",
     "text": [
      "Sentiment(polarity=-1.0, subjectivity=1.0)\n"
     ]
    }
   ],
   "source": [
    "sent2 = text2.sentiment\n",
    "print(sent2)"
   ]
  },
  {
   "cell_type": "code",
   "execution_count": 10,
   "id": "6a7f2aa4",
   "metadata": {},
   "outputs": [],
   "source": [
    "def value(sent):\n",
    "    if sent.polarity > 0:\n",
    "        print(\"Positive\")\n",
    "    elif sent.polarity < 0:\n",
    "        print(\"Negative\")\n",
    "    else:\n",
    "        print('Neutral')        "
   ]
  },
  {
   "cell_type": "code",
   "execution_count": null,
   "id": "03acbb19",
   "metadata": {},
   "outputs": [
    {
     "name": "stdout",
     "output_type": "stream",
     "text": [
      "Positive\n",
      "Negative\n"
     ]
    },
    {
     "ename": "",
     "evalue": "",
     "output_type": "error",
     "traceback": [
      "\u001b[1;31mThe Kernel crashed while executing code in the current cell or a previous cell. \n",
      "\u001b[1;31mPlease review the code in the cell(s) to identify a possible cause of the failure. \n",
      "\u001b[1;31mClick <a href='https://aka.ms/vscodeJupyterKernelCrash'>here</a> for more info. \n",
      "\u001b[1;31mView Jupyter <a href='command:jupyter.viewOutput'>log</a> for further details."
     ]
    }
   ],
   "source": [
    "value(sent1)\n",
    "value(sent2)"
   ]
  }
 ],
 "metadata": {
  "kernelspec": {
   "display_name": "Python 3",
   "language": "python",
   "name": "python3"
  },
  "language_info": {
   "codemirror_mode": {
    "name": "ipython",
    "version": 3
   },
   "file_extension": ".py",
   "mimetype": "text/x-python",
   "name": "python",
   "nbconvert_exporter": "python",
   "pygments_lexer": "ipython3",
   "version": "3.12.6"
  }
 },
 "nbformat": 4,
 "nbformat_minor": 5
}
