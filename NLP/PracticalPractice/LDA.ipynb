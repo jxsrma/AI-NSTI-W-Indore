{
 "cells": [
  {
   "cell_type": "code",
   "execution_count": 1,
   "id": "7ffcfd80",
   "metadata": {},
   "outputs": [
    {
     "data": {
      "text/plain": [
       "['I love watching football matches on weekends with my friends.',\n",
       " 'The new iPhone has an amazing camera and great battery life.',\n",
       " 'Eating vegetables and fruits daily helps improve your health.',\n",
       " 'Python and Java are two of the most popular programming languages.',\n",
       " 'The chef taught us how to bake a chocolate cake from scratch.',\n",
       " 'Yoga and meditation help reduce stress and improve focus.',\n",
       " 'The laptop crashed after the latest Windows update.',\n",
       " 'Our team won the cricket match by 20 runs yesterday.',\n",
       " 'Artificial intelligence is changing the future of every industry.',\n",
       " 'I tried a new pasta recipe with tomato and basil sauce last night.']"
      ]
     },
     "execution_count": 1,
     "metadata": {},
     "output_type": "execute_result"
    }
   ],
   "source": [
    "documents = [\n",
    "    \"I love watching football matches on weekends with my friends.\",\n",
    "    \"The new iPhone has an amazing camera and great battery life.\",\n",
    "    \"Eating vegetables and fruits daily helps improve your health.\",\n",
    "    \"Python and Java are two of the most popular programming languages.\",\n",
    "    \"The chef taught us how to bake a chocolate cake from scratch.\",\n",
    "    \"Yoga and meditation help reduce stress and improve focus.\",\n",
    "    \"The laptop crashed after the latest Windows update.\",\n",
    "    \"Our team won the cricket match by 20 runs yesterday.\",\n",
    "    \"Artificial intelligence is changing the future of every industry.\",\n",
    "    \"I tried a new pasta recipe with tomato and basil sauce last night.\"\n",
    "]\n",
    "\n",
    "documents"
   ]
  },
  {
   "cell_type": "markdown",
   "id": "1ac7fa60",
   "metadata": {},
   "source": [
    "BoW for Feature Extraction"
   ]
  },
  {
   "cell_type": "code",
   "execution_count": null,
   "id": "9b7686c4",
   "metadata": {},
   "outputs": [],
   "source": []
  },
  {
   "cell_type": "markdown",
   "id": "1d4a954b",
   "metadata": {},
   "source": [
    "using Latent Dirichlet Allocation for topic Modeling i.e. Identifying topics"
   ]
  },
  {
   "cell_type": "code",
   "execution_count": null,
   "id": "1c8bd5f9",
   "metadata": {},
   "outputs": [],
   "source": []
  },
  {
   "cell_type": "markdown",
   "id": "c265b5f9",
   "metadata": {},
   "source": [
    "Printing the Model's Extracted Feature"
   ]
  },
  {
   "cell_type": "code",
   "execution_count": null,
   "id": "ee09795e",
   "metadata": {},
   "outputs": [],
   "source": []
  }
 ],
 "metadata": {
  "kernelspec": {
   "display_name": "Python 3",
   "language": "python",
   "name": "python3"
  },
  "language_info": {
   "codemirror_mode": {
    "name": "ipython",
    "version": 3
   },
   "file_extension": ".py",
   "mimetype": "text/x-python",
   "name": "python",
   "nbconvert_exporter": "python",
   "pygments_lexer": "ipython3",
   "version": "3.12.6"
  }
 },
 "nbformat": 4,
 "nbformat_minor": 5
}
