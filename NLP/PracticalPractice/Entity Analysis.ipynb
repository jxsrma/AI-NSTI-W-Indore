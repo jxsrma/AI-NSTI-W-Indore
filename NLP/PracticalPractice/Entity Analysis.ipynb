{
 "cells": [
  {
   "cell_type": "code",
   "execution_count": 46,
   "id": "906159a6",
   "metadata": {},
   "outputs": [],
   "source": [
    "sentance = \"Bill Gates visited Microsoft headquarters in Seattle on Monday, 15 June 2025.\""
   ]
  },
  {
   "cell_type": "markdown",
   "id": "d03eb672",
   "metadata": {},
   "source": [
    "Tokenize"
   ]
  },
  {
   "cell_type": "code",
   "execution_count": null,
   "id": "3be56e94",
   "metadata": {},
   "outputs": [],
   "source": []
  },
  {
   "cell_type": "markdown",
   "id": "02dd87ec",
   "metadata": {},
   "source": [
    "Parts of Speech Tagging"
   ]
  },
  {
   "cell_type": "code",
   "execution_count": null,
   "id": "51899a16",
   "metadata": {},
   "outputs": [],
   "source": []
  },
  {
   "cell_type": "markdown",
   "id": "8ecb27bf",
   "metadata": {},
   "source": [
    "chunking with ne_chunk"
   ]
  },
  {
   "cell_type": "code",
   "execution_count": null,
   "id": "8839c553",
   "metadata": {},
   "outputs": [],
   "source": []
  },
  {
   "cell_type": "markdown",
   "id": "ffd572a3",
   "metadata": {},
   "source": [
    "NER with ne_chunk and Tree"
   ]
  },
  {
   "cell_type": "code",
   "execution_count": null,
   "id": "71edb28b",
   "metadata": {},
   "outputs": [],
   "source": []
  },
  {
   "cell_type": "markdown",
   "id": "68d04cd0",
   "metadata": {},
   "source": [
    "By Spacy\n",
    "\n",
    "```\n",
    "%pip install spacy\n",
    "%python -m spacy download en_core_web_sm\n",
    "```\n",
    "or\n",
    "```python\n",
    "from spacy.cli import download\n",
    "download(\"en_core_web_sm\")\n",
    "```"
   ]
  },
  {
   "cell_type": "code",
   "execution_count": null,
   "id": "1cf02c2e",
   "metadata": {},
   "outputs": [],
   "source": []
  }
 ],
 "metadata": {
  "kernelspec": {
   "display_name": "Python 3",
   "language": "python",
   "name": "python3"
  },
  "language_info": {
   "codemirror_mode": {
    "name": "ipython",
    "version": 3
   },
   "file_extension": ".py",
   "mimetype": "text/x-python",
   "name": "python",
   "nbconvert_exporter": "python",
   "pygments_lexer": "ipython3",
   "version": "3.12.6"
  }
 },
 "nbformat": 4,
 "nbformat_minor": 5
}
