{
 "cells": [
  {
   "cell_type": "code",
   "execution_count": 1,
   "id": "d0e99d35",
   "metadata": {},
   "outputs": [],
   "source": [
    "documents = [\n",
    "    \"I love machine learning and NLP\",\n",
    "    \"NLP is a part of artificial intelligence\",\n",
    "    \"I enjoy learning about AI and machine learning\"\n",
    "]"
   ]
  },
  {
   "cell_type": "markdown",
   "id": "cc473aaf",
   "metadata": {},
   "source": [
    "Bag of Words"
   ]
  },
  {
   "cell_type": "code",
   "execution_count": null,
   "id": "1852a90e",
   "metadata": {},
   "outputs": [],
   "source": []
  },
  {
   "cell_type": "markdown",
   "id": "7472b5d2",
   "metadata": {},
   "source": [
    "TF IDF"
   ]
  },
  {
   "cell_type": "code",
   "execution_count": null,
   "id": "57cd9b11",
   "metadata": {},
   "outputs": [],
   "source": []
  }
 ],
 "metadata": {
  "kernelspec": {
   "display_name": "Python 3",
   "language": "python",
   "name": "python3"
  },
  "language_info": {
   "codemirror_mode": {
    "name": "ipython",
    "version": 3
   },
   "file_extension": ".py",
   "mimetype": "text/x-python",
   "name": "python",
   "nbconvert_exporter": "python",
   "pygments_lexer": "ipython3",
   "version": "3.12.6"
  }
 },
 "nbformat": 4,
 "nbformat_minor": 5
}
