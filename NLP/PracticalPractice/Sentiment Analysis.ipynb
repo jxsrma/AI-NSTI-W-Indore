{
 "cells": [
  {
   "cell_type": "code",
   "execution_count": 1,
   "id": "59b9e230",
   "metadata": {},
   "outputs": [],
   "source": [
    "sentences = [\n",
    "    (\"I love this product! It works like a charm.\", \"positive\"),\n",
    "    (\"Absolutely horrible experience. Never again.\", \"negative\"),\n",
    "    (\"It’s okay, not great but not terrible either.\", \"neutral\"),\n",
    "    (\"Fantastic service and friendly staff!\", \"positive\"),\n",
    "    (\"The food was cold and tasteless.\", \"negative\"),\n",
    "    (\"I'm extremely satisfied with the quality.\", \"positive\"),\n",
    "    (\"I wouldn’t recommend this to anyone.\", \"negative\"),\n",
    "    (\"It was fine, just not what I expected.\", \"neutral\"),\n",
    "    (\"Best purchase I’ve made this year!\", \"positive\"),\n",
    "    (\"Terrible customer support. No help at all.\", \"negative\"),\n",
    "    (\"The movie was decent, but too long.\", \"neutral\"),\n",
    "    (\"Great value for the price!\", \"positive\"),\n",
    "    (\"Awful! The item broke on the first day.\", \"negative\"),\n",
    "    (\"I had a wonderful time at the event.\", \"positive\"),\n",
    "    (\"It didn’t meet my expectations.\", \"negative\"),\n",
    "]\n"
   ]
  },
  {
   "cell_type": "markdown",
   "id": "7bb1bb2c",
   "metadata": {},
   "source": [
    "With TextBlob Library"
   ]
  },
  {
   "cell_type": "code",
   "execution_count": null,
   "id": "55dea040",
   "metadata": {},
   "outputs": [],
   "source": []
  },
  {
   "cell_type": "markdown",
   "id": "d91e5066",
   "metadata": {},
   "source": [
    "with NLTK Sentiment Intesity Analyzer"
   ]
  },
  {
   "cell_type": "code",
   "execution_count": null,
   "id": "07b08d1b",
   "metadata": {},
   "outputs": [],
   "source": []
  }
 ],
 "metadata": {
  "kernelspec": {
   "display_name": "Python 3",
   "language": "python",
   "name": "python3"
  },
  "language_info": {
   "codemirror_mode": {
    "name": "ipython",
    "version": 3
   },
   "file_extension": ".py",
   "mimetype": "text/x-python",
   "name": "python",
   "nbconvert_exporter": "python",
   "pygments_lexer": "ipython3",
   "version": "3.12.6"
  }
 },
 "nbformat": 4,
 "nbformat_minor": 5
}
