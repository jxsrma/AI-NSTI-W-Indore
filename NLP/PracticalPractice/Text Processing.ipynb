{
 "cells": [
  {
   "cell_type": "code",
   "execution_count": 1,
   "id": "14565e97",
   "metadata": {},
   "outputs": [],
   "source": [
    "text = \"Microsoft Corporation is an American multinational corporation and technology conglomerate headquartered in Redmond, Washington.[2] Founded in 1975, the company became influential in the rise of personal computers through software like Windows, and the company has since expanded to Internet services, cloud computing, video gaming and other fields. Microsoft is the largest software maker, one of the most valuable public U.S. companies,[a] and one of the most valuable brands globally.\""
   ]
  },
  {
   "cell_type": "markdown",
   "id": "8b23747a",
   "metadata": {},
   "source": [
    "1. Lower Case"
   ]
  },
  {
   "cell_type": "markdown",
   "id": "8086bc33",
   "metadata": {},
   "source": [
    "2. Remove Symbols and Numbers"
   ]
  },
  {
   "cell_type": "markdown",
   "id": "2da2f94a",
   "metadata": {},
   "source": [
    "3. Tokenize"
   ]
  },
  {
   "cell_type": "markdown",
   "id": "0264a962",
   "metadata": {},
   "source": [
    "4. Stopwords removal/filtering"
   ]
  },
  {
   "cell_type": "markdown",
   "id": "2ac59471",
   "metadata": {},
   "source": [
    "5. Stemming/Lemmetization"
   ]
  },
  {
   "cell_type": "markdown",
   "id": "5e4e7716",
   "metadata": {},
   "source": [
    "6. Back to Sentance"
   ]
  }
 ],
 "metadata": {
  "kernelspec": {
   "display_name": "Python 3",
   "language": "python",
   "name": "python3"
  },
  "language_info": {
   "codemirror_mode": {
    "name": "ipython",
    "version": 3
   },
   "file_extension": ".py",
   "mimetype": "text/x-python",
   "name": "python",
   "nbconvert_exporter": "python",
   "pygments_lexer": "ipython3",
   "version": "3.12.6"
  }
 },
 "nbformat": 4,
 "nbformat_minor": 5
}
