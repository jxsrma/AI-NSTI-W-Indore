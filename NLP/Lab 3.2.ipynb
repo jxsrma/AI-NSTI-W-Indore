{
 "cells": [
  {
   "cell_type": "code",
   "execution_count": 1,
   "id": "ae144980",
   "metadata": {},
   "outputs": [],
   "source": [
    "import pandas as pd\n",
    "import nltk\n",
    "from nltk import word_tokenize, pos_tag, ne_chunk\n",
    "from nltk.tree import Tree\n",
    "import re\n"
   ]
  },
  {
   "cell_type": "code",
   "execution_count": null,
   "id": "e07fceb8",
   "metadata": {},
   "outputs": [],
   "source": [
    "def extract_named_entities(text):\n",
    "    entities = {'PERSON': [], 'ORGANIZATION': [], 'GPE': []}\n",
    "    chunked = ne_chunk(pos_tag(word_tokenize(text)))\n",
    "    for subtree in chunked:\n",
    "        if isinstance(subtree, Tree):\n",
    "            label = subtree.label()\n",
    "            entity = \" \".join(token for token, _ in subtree.leaves())\n",
    "            if label in entities:\n",
    "                entities[label].append(entity)\n",
    "    return entities"
   ]
  },
  {
   "cell_type": "code",
   "execution_count": 3,
   "id": "3409d332",
   "metadata": {},
   "outputs": [],
   "source": [
    "# Sample extendable skill set\n",
    "common_skills = set([\n",
    "    'Python', 'Java', 'SQL', 'Excel', 'Machine Learning', 'Communication',\n",
    "    'Deep Learning', 'Project Management', 'Leadership', 'NLP', 'TensorFlow',\n",
    "    'Pandas', 'R', 'C++', 'Git', 'Data Visualization', 'Tableau'\n",
    "])\n"
   ]
  },
  {
   "cell_type": "code",
   "execution_count": 4,
   "id": "41f7d642",
   "metadata": {},
   "outputs": [],
   "source": [
    "def extract_skills(text):\n",
    "    tokens = set(word_tokenize(text))\n",
    "    return list(common_skills.intersection(tokens))\n"
   ]
  },
  {
   "cell_type": "code",
   "execution_count": 5,
   "id": "f5e60144",
   "metadata": {},
   "outputs": [],
   "source": [
    "import pandas as pd\n",
    "\n",
    "df = pd.read_csv('D:\\\\EduNet\\\\NSTI Indore\\\\AI\\\\NLP\\\\Dataset\\\\Resume.csv')\n",
    "df = df[['ID','Resume_str','Category']]\n",
    "df.to_csv('ResumeLab3.2.csv')\n"
   ]
  },
  {
   "cell_type": "code",
   "execution_count": 6,
   "id": "c19dbcf3",
   "metadata": {},
   "outputs": [
    {
     "name": "stdout",
     "output_type": "stream",
     "text": [
      "Target Job Category: HR\n",
      "\n",
      "Named Entities:\n",
      "{'PERSON': ['Client', 'Accomplishments Missouri', 'Manager Training', 'Hilton OnQ', 'Micros Opera PMS', 'Fidelio OPERA', 'Holidex Completed', 'Experience HR', 'Current Company Name', 'Advanced Medical Claims Analyst Mar', 'Manager Jun', 'Hired', 'Executive Support', 'State', 'Marketing', 'Front Office Manager', 'Partner Dec', 'Business', 'Jefferson College', 'School Diploma', 'College Prep', 'State', 'Jefferson College Skills Accounting', 'Marketing'], 'ORGANIZATION': ['ASSOCIATE', 'Customer Service Management', 'IHG', 'Segment Hilton', 'ORS', 'State Helps', 'Administers', 'State Reviewed', 'CPT', 'State', 'Commerce', 'Customer Service', 'Human Resources', 'State', 'State', 'State Education', 'State Business Administration', 'American Shrubel Leadership', 'Customer Service', 'Human Resources'], 'GPE': ['Hospitality', 'Customer', 'Facebook', 'Executive']}\n",
      "\n",
      "Extracted Skills:\n",
      "['Leadership']\n"
     ]
    }
   ],
   "source": [
    "sample_text = df['Resume_str'].iloc[0]\n",
    "ner_result = extract_named_entities(sample_text)\n",
    "skills_result = extract_skills(sample_text)\n",
    "category = df['Category'].iloc[0]\n",
    "print(\"Target Job Category:\", category)\n",
    "print(\"\\nNamed Entities:\")\n",
    "print(ner_result)\n",
    "print(\"\\nExtracted Skills:\")\n",
    "print(skills_result)\n"
   ]
  },
  {
   "cell_type": "code",
   "execution_count": 8,
   "id": "09e3e172",
   "metadata": {},
   "outputs": [
    {
     "data": {
      "text/html": [
       "<div>\n",
       "<style scoped>\n",
       "    .dataframe tbody tr th:only-of-type {\n",
       "        vertical-align: middle;\n",
       "    }\n",
       "\n",
       "    .dataframe tbody tr th {\n",
       "        vertical-align: top;\n",
       "    }\n",
       "\n",
       "    .dataframe thead th {\n",
       "        text-align: right;\n",
       "    }\n",
       "</style>\n",
       "<table border=\"1\" class=\"dataframe\">\n",
       "  <thead>\n",
       "    <tr style=\"text-align: right;\">\n",
       "      <th></th>\n",
       "      <th>ID</th>\n",
       "      <th>Category</th>\n",
       "      <th>Skills</th>\n",
       "      <th>Entities</th>\n",
       "    </tr>\n",
       "  </thead>\n",
       "  <tbody>\n",
       "    <tr>\n",
       "      <th>0</th>\n",
       "      <td>16852973</td>\n",
       "      <td>HR</td>\n",
       "      <td>[Leadership]</td>\n",
       "      <td>{'PERSON': ['Client', 'Accomplishments Missour...</td>\n",
       "    </tr>\n",
       "    <tr>\n",
       "      <th>1</th>\n",
       "      <td>22323967</td>\n",
       "      <td>HR</td>\n",
       "      <td>[Communication]</td>\n",
       "      <td>{'PERSON': ['Marketing', 'Current HR Specialis...</td>\n",
       "    </tr>\n",
       "    <tr>\n",
       "      <th>2</th>\n",
       "      <td>33176873</td>\n",
       "      <td>HR</td>\n",
       "      <td>[Leadership, Excel]</td>\n",
       "      <td>{'PERSON': ['Benefit Administration Policy', '...</td>\n",
       "    </tr>\n",
       "    <tr>\n",
       "      <th>3</th>\n",
       "      <td>27018550</td>\n",
       "      <td>HR</td>\n",
       "      <td>[Excel]</td>\n",
       "      <td>{'PERSON': ['Dynamic', 'Solid', 'Skills Type',...</td>\n",
       "    </tr>\n",
       "    <tr>\n",
       "      <th>4</th>\n",
       "      <td>17812897</td>\n",
       "      <td>HR</td>\n",
       "      <td>[Excel]</td>\n",
       "      <td>{'PERSON': ['Skill Highlights HR', 'Advocacy H...</td>\n",
       "    </tr>\n",
       "  </tbody>\n",
       "</table>\n",
       "</div>"
      ],
      "text/plain": [
       "         ID Category               Skills  \\\n",
       "0  16852973       HR         [Leadership]   \n",
       "1  22323967       HR      [Communication]   \n",
       "2  33176873       HR  [Leadership, Excel]   \n",
       "3  27018550       HR              [Excel]   \n",
       "4  17812897       HR              [Excel]   \n",
       "\n",
       "                                            Entities  \n",
       "0  {'PERSON': ['Client', 'Accomplishments Missour...  \n",
       "1  {'PERSON': ['Marketing', 'Current HR Specialis...  \n",
       "2  {'PERSON': ['Benefit Administration Policy', '...  \n",
       "3  {'PERSON': ['Dynamic', 'Solid', 'Skills Type',...  \n",
       "4  {'PERSON': ['Skill Highlights HR', 'Advocacy H...  "
      ]
     },
     "execution_count": 8,
     "metadata": {},
     "output_type": "execute_result"
    }
   ],
   "source": [
    "results = []\n",
    "for idx, row in df.head(10).iterrows():\n",
    "    text = row['Resume_str']\n",
    "    ner = extract_named_entities(text)\n",
    "    skills = extract_skills(text)\n",
    "    results.append({\n",
    "        \"ID\": row['ID'],\n",
    "        \"Category\": row['Category'],\n",
    "        \"Skills\": skills,\n",
    "        \"Entities\": ner\n",
    "    })\n",
    "results_df = pd.DataFrame(results)\n",
    "results_df.head()\n"
   ]
  },
  {
   "cell_type": "code",
   "execution_count": null,
   "id": "0874530d",
   "metadata": {},
   "outputs": [
    {
     "data": {
      "image/png": "[encoded data removed]",
      "text/plain": [
       "<Figure size 1000x500 with 1 Axes>"
      ]
     },
     "metadata": {},
     "output_type": "display_data"
    }
   ],
   "source": [
    "from collections import Counter\n",
    "import matplotlib.pyplot as plt\n",
    "\n",
    "all_skills = []\n",
    "for item in results_df['Skills']:\n",
    "    all_skills.extend(item)\n",
    "\n",
    "skill_freq = Counter(all_skills)\n",
    "top_skills = skill_freq.most_common(10)\n",
    "\n",
    "labels, values = zip(*top_skills)\n",
    "\n",
    "plt.figure(figsize=(10,5))\n",
    "plt.bar(labels, values, color='orange')\n",
    "plt.title(\"Top Skills from First 10 Resumes\")\n",
    "plt.ylabel(\"Frequency\")\n",
    "plt.xticks(rotation=45)\n",
    "plt.tight_layout()\n",
    "plt.show()\n"
   ]
  }
 ],
 "metadata": {
  "kernelspec": {
   "display_name": "Python 3",
   "language": "python",
   "name": "python3"
  },
  "language_info": {
   "codemirror_mode": {
    "name": "ipython",
    "version": 3
   },
   "file_extension": ".py",
   "mimetype": "text/x-python",
   "name": "python",
   "nbconvert_exporter": "python",
   "pygments_lexer": "ipython3",
   "version": "3.12.6"
  }
 },
 "nbformat": 4,
 "nbformat_minor": 5
}
